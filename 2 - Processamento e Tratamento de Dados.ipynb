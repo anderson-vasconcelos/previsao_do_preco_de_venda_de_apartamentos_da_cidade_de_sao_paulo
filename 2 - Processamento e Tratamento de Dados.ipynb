{
 "cells": [
  {
   "cell_type": "markdown",
   "metadata": {},
   "source": [
    "# Trabalho de Conclusão de Curso - Processamento e Tratamento de Dados\n",
    "<p style='font-size: 18px; line-height: 2'>Anderson Vasconcelos</p>"
   ]
  },
  {
   "cell_type": "markdown",
   "metadata": {},
   "source": [
    "# Conhecendo os Datasets\n",
    "<hr style='border: 2px solid;'>"
   ]
  },
  {
   "cell_type": "markdown",
   "metadata": {},
   "source": [
    "## Importando bibliotecas\n",
    "\n",
    "https://pandas.pydata.org/\n",
    "\n",
    "https://scikit-learn.org/stable/\n",
    "\n",
    "https://seaborn.pydata.org/api.html"
   ]
  },
  {
   "cell_type": "code",
   "execution_count": 3,
   "metadata": {},
   "outputs": [],
   "source": [
    "import pandas as pd\n",
    "import seaborn as sns\n",
    "import warnings\n",
    "from sklearn.preprocessing import LabelBinarizer\n",
    "from IPython.core.display import display, HTML\n",
    "from os import listdir\n",
    "from os.path import isfile, join\n",
    "from unidecode import unidecode\n",
    "warnings.simplefilter(action='ignore', category=FutureWarning)\n",
    "warnings.simplefilter(action='ignore', category=DeprecationWarning)"
   ]
  },
  {
   "cell_type": "markdown",
   "metadata": {},
   "source": [
    "## O Dataset de imóveis\n",
    "<hr>\n",
    "\n",
    "### Fonte: https://api.loft.com.br/\n",
    "\n",
    "### Descrição:\n",
    "<p style='font-size: 18px; line-height: 2; margin: 10px 50px; text-align: justify;'>Dados coletos do site da loft para apartamentos a venda na cidade de São Paulo no dia 23/12/2020 as 13:52:00</p>\n",
    "\n",
    "### Dados:\n",
    "<ul style='font-size: 18px; line-height: 2; text-align: justify;'>\n",
    "    <li><b>address</b> - Endereço do imóvel</li>\n",
    "    <li><b>area</b> - Área do imóvel (m²)</li>\n",
    "    <li><b>balconyType</b> - Tipo de varanda</li>\n",
    "    <li><b>bedrooms</b> - Quantidade de quartos</li>\n",
    "    <li><b>buildingCommercialType</b> - Tipo edifício comercial</li>\n",
    "    <li><b>buildingHasAirConditioning</b> - Se a construção tem ar-condicionado</li>\n",
    "    <li><b>buildingHasGarage</b> - Se a construção tem estacio-namento</li>\n",
    "    <li><b>contractType</b> - Tipo do contrato</li>\n",
    "    <li><b>currentPhase</b> - Fase atual </li>\n",
    "    <li><b>facadeQualification</b> - Qualificação da Fachada</li>\n",
    "    <li><b>floor</b> - Andar do imóvel</li>\n",
    "    <li><b>gatekeeperAvailability</b> - Disponibilidade do porteiro</li>\n",
    "    <li><b>heatingSystem</b> - Se tem aquecedor</li>\n",
    "    <li><b>id</b> - Id do registro</li>\n",
    "    <li><b>image</b> - Imagem do imóvel</li>\n",
    "    <li><b>image_thumbnail</b> - Miniatura da imagem do imóvel</li>\n",
    "    <li><b>isMarketplace</b> - Se é mercado</li>\n",
    "    <li><b>isRentable</b> - Se é alugável</li>\n",
    "    <li><b>kitchenServiceAreaViewIsBlocked</b> - Se a visão da área de serviço da cozinha está bloqueada</li>\n",
    "    <li><b>livingRoomViewIsBlocked</b> - Se a visão da sala de estar está bloqueada</li>\n",
    "    <li><b>livingRoomViewQualification</b> - Qualificação da vista da sala de estar</li>\n",
    "    <li><b>mainBedroomViewIsBlocked</b> - Se a visão do quarto principal está bloqueada</li>\n",
    "    <li><b>otherBedroomsViewsAreBlocked</b> - Se a visão dos outros quartos está bloqueada</li>\n",
    "    <li><b>parkingSpots</b> - Quantidade de vagas</li>\n",
    "    <li><b>price</b> - Preço de venda do imóvel (R$)</li>\n",
    "    <li><b>productType</b> - Tipo de produto</li>\n",
    "    <li><b>propertyType</b> - Tipo de propriedade</li>\n",
    "    <li><b>rentalPrice</b> - Preço de aluguel</li>\n",
    "    <li><b>status</b> - Status do imóvel</li>\n",
    "    <li><b>subwayShortestDistance</b> - Distância mais curta do metrô (m)</li>\n",
    "    <li><b>suits</b> - Quantidade de suits</li>\n",
    "    <li><b>towerHasElevator</b> - Se tem elevador</li>\n",
    "    <li><b>unitHasServiceBathroom</b> - Se o imóvel tem banheiro de serviço</li>\n",
    "    <li><b>unitHasServiceBedroom</b> - Se o imóvel tem quarto de ser-viço</li>\n",
    "    <li><b>unitId</b> - Id da unidade</li>\n",
    "</ul>"
   ]
  },
  {
   "cell_type": "markdown",
   "metadata": {},
   "source": [
    "## O Dataset de Latrocínio do ano de 2020\n",
    "<hr>\n",
    "\n",
    "### Fonte: http://www.ssp.sp.gov.br/transparenciassp/Consulta.aspx\n",
    "\n",
    "### Descrição:\n",
    "<p style='font-size: 18px; line-height: 2; margin: 10px 50px; text-align: justify;'>Dados coletos do site da Secretária de Segurança do estado de São Paulo no dia 24/07/2021 as 19:45:00</p>\n",
    "\n",
    "### Dados:\n",
    "<ul style='font-size: 18px; line-height: 2; text-align: justify;'>\n",
    "    <li><b>ANO_BO</b> - Ano do Boeltim</li>\n",
    "    <li><b>NUM_BO</b> - ID do Boletim</li>\n",
    "    <li><b>NUMERO_BOLETIM</b> - Número do boletim</li>\n",
    "    <li><b>BO_INICIADO</b> - Quando o Boletim foi iniciado</li>\n",
    "    <li><b>BO_EMITIDO</b> - Quando o Boletim foi emitido</li>\n",
    "    <li><b>DATAOCORRENCIA</b> - Data da ocorrência</li>\n",
    "    <li><b>HORAOCORRENCIA</b> - Hora da ocorrência</li>\n",
    "    <li><b>PERIDOOCORRENCIA</b> - Periódo da ocorrência</li>\n",
    "    <li><b>DATACOMUNICACAO</b> - Data da comunicação do evento</li>\n",
    "    <li><b>DATAELABORACAO</b> - Data da elaboração do boletim</li>\n",
    "    <li><b>BO_AUTORIA</b> - Autoria do Boletim</li>\n",
    "    <li><b>FLAGRANTE</b> - Se ocorreu flagrante</li>\n",
    "    <li><b>NUMERO_BOLETIM_PRINCIPAL</b> - Número do boletim principal</li>\n",
    "    <li><b>LOGRADOURO</b> - Endereço onde correu o evento</li>\n",
    "    <li><b>NUMERO</b> - Número onde ocorreu o evento</li>\n",
    "    <li><b>BAIRRO</b> - Bairro onde ocorreu o evento</li>\n",
    "    <li><b>CIDADE</b> - Cidade onde ocorreu o evento</li>\n",
    "    <li><b>UF</b> - UF onde ocorreu o evento</li>\n",
    "    <li><b>LATITUDE</b> - Latitude onde ocorreu o evento</li>\n",
    "    <li><b>LONGITUDE</b> - Longitude onde ocorreu o evento</li>\n",
    "    <li><b>DESCRICAOLOCAL</b> - Descrição do local do evento</li>\n",
    "    <li><b>EXAME</b> - Exame</li>\n",
    "    <li><b>SOLUCAO</b> - Qual foi a solução</li>\n",
    "    <li><b>DELEGACIA_NOME</b> - Nome da delegacia</li>\n",
    "    <li><b>DELEGACIA_CIRCUNSCRICAO</b> - Delegacia circunscrição</li>\n",
    "    <li><b>ESPECIE</b> - Especie</li>\n",
    "    <li><b>RUBRICA</b> - Rubrica</li>\n",
    "    <li><b>DESDOBRAMENTO</b> - Desdobramento do evento</li>\n",
    "    <li><b>STATUS</b> - Status do boletim</li>\n",
    "    <li><b>TIPOPESSOA</b> - Tipo de Pessoa</li>\n",
    "    <li><b>VITIMAFATAL</b> - Se teve vítima fatal</li>\n",
    "    <li><b>NATURALIDADE</b> - Naturalidade da vítima</li>\n",
    "    <li><b>NACIONALIDADE</b> - Nacionalidade da vítima</li>\n",
    "    <li><b>SEXO</b> -Sexo da vítima</li>\n",
    "    <li><b>DATANASCIMENTO</b> - Data de nascimento da vítima</li>\n",
    "    <li><b>IDADE</b> - Idade da vítima</li>\n",
    "    <li><b>ESTADOCIVIL</b> - Estado civil da vítima</li>\n",
    "    <li><b>PROFISSAO</b> - Profissão da vítima</li>\n",
    "    <li><b>GRAUINSTRUCAO</b> - Grau de instrução da vítima</li>\n",
    "    <li><b>CORCUTIS</b> - Corcutis da vítima</li>\n",
    "    <li><b>NATUREZAVINCULADA</b> - Natureza vinculada</li>\n",
    "    <li><b>TIPOVINCULO</b> - Tipo do veículo</li>\n",
    "    <li><b>RELACIONAMENTO</b> - Relacionamento</li>\n",
    "    <li><b>PARENTESCO</b> - Parentesco</li>\n",
    "    <li><b>PLACA_VEICULO</b> - Placa do veículo</li>\n",
    "    <li><b>UF_VEICULO</b> - UF do veículo</li>\n",
    "    <li><b>CIDADE_VEICULO</b> - Cidade do veículo</li>\n",
    "    <li><b>DESCR_COR_VEICULO</b> - Cor do veículo</li>\n",
    "    <li><b>DESCR_MARCA_VEICULO</b> - Marca do veículo</li>\n",
    "    <li><b>ANO_FABRICACAO</b> - Ano fabricação do veículo</li>\n",
    "    <li><b>ANO_MODELO</b> - Ano modelo do veículo</li>\n",
    "    <li><b>DESCR_TIPO_VEICULO</b> - Cor do veículo</li>\n",
    "    <li><b>QUANT_CELULAR</b> - Quantidade de celular</li>\n",
    "    <li><b>MARCA_CELULAR</b> - Marca do celular</li>\n",
    "</ul>"
   ]
  },
  {
   "cell_type": "markdown",
   "metadata": {},
   "source": [
    "## Leitura dos dados"
   ]
  },
  {
   "cell_type": "code",
   "execution_count": 2,
   "metadata": {},
   "outputs": [],
   "source": [
    "imoveis = pd.read_csv('dados/dataset_imoveis_loft_sao_paulo_23122020_135200.csv', sep='|')"
   ]
  },
  {
   "cell_type": "code",
   "execution_count": 4,
   "metadata": {},
   "outputs": [],
   "source": [
    "data_frames = []\n",
    "for file in [join('dados\\latrocinio', f) for f in listdir('dados\\latrocinio') if isfile(join('dados\\latrocinio', f))]:\n",
    "    data_frame = pd.read_excel(file)\n",
    "    data_frames.append(data_frame)\n",
    "latrocinios = pd.concat(data_frames, ignore_index=True, sort=False)"
   ]
  },
  {
   "cell_type": "markdown",
   "metadata": {},
   "source": [
    "## Visualizar os dados"
   ]
  },
  {
   "cell_type": "code",
   "execution_count": 4,
   "metadata": {
    "scrolled": true
   },
   "outputs": [
    {
     "data": {
      "text/html": [
       "<div>\n",
       "<style scoped>\n",
       "    .dataframe tbody tr th:only-of-type {\n",
       "        vertical-align: middle;\n",
       "    }\n",
       "\n",
       "    .dataframe tbody tr th {\n",
       "        vertical-align: top;\n",
       "    }\n",
       "\n",
       "    .dataframe thead th {\n",
       "        text-align: right;\n",
       "    }\n",
       "</style>\n",
       "<table border=\"1\" class=\"dataframe\">\n",
       "  <thead>\n",
       "    <tr style=\"text-align: right;\">\n",
       "      <th></th>\n",
       "      <th>address</th>\n",
       "      <th>area</th>\n",
       "      <th>balconyType</th>\n",
       "      <th>bedrooms</th>\n",
       "      <th>buildingCommercialType</th>\n",
       "      <th>buildingHasAirConditioning</th>\n",
       "      <th>buildingHasGarage</th>\n",
       "      <th>contractType</th>\n",
       "      <th>currentPhase</th>\n",
       "      <th>facadeQualification</th>\n",
       "      <th>...</th>\n",
       "      <th>productType</th>\n",
       "      <th>propertyType</th>\n",
       "      <th>rentalPrice</th>\n",
       "      <th>status</th>\n",
       "      <th>subwayShortestDistance</th>\n",
       "      <th>suits</th>\n",
       "      <th>towerHasElevator</th>\n",
       "      <th>unitHasServiceBathroom</th>\n",
       "      <th>unitHasServiceBedroom</th>\n",
       "      <th>unitId</th>\n",
       "    </tr>\n",
       "  </thead>\n",
       "  <tbody>\n",
       "    <tr>\n",
       "      <th>0</th>\n",
       "      <td>{'id': '4750', 'lat': '-23.60053000', 'lng': '...</td>\n",
       "      <td>204</td>\n",
       "      <td>NaN</td>\n",
       "      <td>3</td>\n",
       "      <td>NaN</td>\n",
       "      <td>False</td>\n",
       "      <td>False</td>\n",
       "      <td>exclusive</td>\n",
       "      <td>ready_to_move</td>\n",
       "      <td>NaN</td>\n",
       "      <td>...</td>\n",
       "      <td>market</td>\n",
       "      <td>NaN</td>\n",
       "      <td>NaN</td>\n",
       "      <td>FOR_SALE</td>\n",
       "      <td>731.276</td>\n",
       "      <td>1</td>\n",
       "      <td>False</td>\n",
       "      <td>False</td>\n",
       "      <td>False</td>\n",
       "      <td>272294</td>\n",
       "    </tr>\n",
       "    <tr>\n",
       "      <th>1</th>\n",
       "      <td>{'id': '13993', 'lat': '-23.53410960', 'lng': ...</td>\n",
       "      <td>142</td>\n",
       "      <td>NaN</td>\n",
       "      <td>2</td>\n",
       "      <td>NaN</td>\n",
       "      <td>False</td>\n",
       "      <td>False</td>\n",
       "      <td>exclusive</td>\n",
       "      <td>set_up</td>\n",
       "      <td>NaN</td>\n",
       "      <td>...</td>\n",
       "      <td>select</td>\n",
       "      <td>NaN</td>\n",
       "      <td>NaN</td>\n",
       "      <td>FOR_SALE</td>\n",
       "      <td>820.737</td>\n",
       "      <td>2</td>\n",
       "      <td>False</td>\n",
       "      <td>False</td>\n",
       "      <td>False</td>\n",
       "      <td>552186</td>\n",
       "    </tr>\n",
       "    <tr>\n",
       "      <th>2</th>\n",
       "      <td>{'id': '23795', 'lat': '-23.64356130', 'lng': ...</td>\n",
       "      <td>72</td>\n",
       "      <td>NaN</td>\n",
       "      <td>3</td>\n",
       "      <td>NaN</td>\n",
       "      <td>False</td>\n",
       "      <td>False</td>\n",
       "      <td>exclusive</td>\n",
       "      <td>set_up</td>\n",
       "      <td>NaN</td>\n",
       "      <td>...</td>\n",
       "      <td>select</td>\n",
       "      <td>NaN</td>\n",
       "      <td>NaN</td>\n",
       "      <td>FOR_SALE</td>\n",
       "      <td>2447.620</td>\n",
       "      <td>0</td>\n",
       "      <td>True</td>\n",
       "      <td>False</td>\n",
       "      <td>False</td>\n",
       "      <td>942879</td>\n",
       "    </tr>\n",
       "    <tr>\n",
       "      <th>3</th>\n",
       "      <td>{'id': '19647', 'lat': '-23.53524520', 'lng': ...</td>\n",
       "      <td>70</td>\n",
       "      <td>NaN</td>\n",
       "      <td>2</td>\n",
       "      <td>NaN</td>\n",
       "      <td>False</td>\n",
       "      <td>False</td>\n",
       "      <td>exclusive</td>\n",
       "      <td>ready_to_move</td>\n",
       "      <td>NaN</td>\n",
       "      <td>...</td>\n",
       "      <td>market</td>\n",
       "      <td>NaN</td>\n",
       "      <td>NaN</td>\n",
       "      <td>FOR_SALE</td>\n",
       "      <td>583.255</td>\n",
       "      <td>1</td>\n",
       "      <td>True</td>\n",
       "      <td>False</td>\n",
       "      <td>False</td>\n",
       "      <td>770487</td>\n",
       "    </tr>\n",
       "    <tr>\n",
       "      <th>4</th>\n",
       "      <td>{'id': '12316', 'lat': '-23.56417670', 'lng': ...</td>\n",
       "      <td>41</td>\n",
       "      <td>NaN</td>\n",
       "      <td>1</td>\n",
       "      <td>NaN</td>\n",
       "      <td>False</td>\n",
       "      <td>False</td>\n",
       "      <td>exclusive</td>\n",
       "      <td>set_up</td>\n",
       "      <td>NaN</td>\n",
       "      <td>...</td>\n",
       "      <td>select</td>\n",
       "      <td>NaN</td>\n",
       "      <td>NaN</td>\n",
       "      <td>FOR_SALE</td>\n",
       "      <td>516.081</td>\n",
       "      <td>0</td>\n",
       "      <td>True</td>\n",
       "      <td>False</td>\n",
       "      <td>False</td>\n",
       "      <td>494114</td>\n",
       "    </tr>\n",
       "  </tbody>\n",
       "</table>\n",
       "<p>5 rows × 35 columns</p>\n",
       "</div>"
      ],
      "text/plain": [
       "                                             address  area  balconyType  \\\n",
       "0  {'id': '4750', 'lat': '-23.60053000', 'lng': '...   204          NaN   \n",
       "1  {'id': '13993', 'lat': '-23.53410960', 'lng': ...   142          NaN   \n",
       "2  {'id': '23795', 'lat': '-23.64356130', 'lng': ...    72          NaN   \n",
       "3  {'id': '19647', 'lat': '-23.53524520', 'lng': ...    70          NaN   \n",
       "4  {'id': '12316', 'lat': '-23.56417670', 'lng': ...    41          NaN   \n",
       "\n",
       "   bedrooms  buildingCommercialType  buildingHasAirConditioning  \\\n",
       "0         3                     NaN                       False   \n",
       "1         2                     NaN                       False   \n",
       "2         3                     NaN                       False   \n",
       "3         2                     NaN                       False   \n",
       "4         1                     NaN                       False   \n",
       "\n",
       "   buildingHasGarage contractType   currentPhase  facadeQualification  ...  \\\n",
       "0              False    exclusive  ready_to_move                  NaN  ...   \n",
       "1              False    exclusive         set_up                  NaN  ...   \n",
       "2              False    exclusive         set_up                  NaN  ...   \n",
       "3              False    exclusive  ready_to_move                  NaN  ...   \n",
       "4              False    exclusive         set_up                  NaN  ...   \n",
       "\n",
       "   productType  propertyType  rentalPrice    status subwayShortestDistance  \\\n",
       "0       market           NaN          NaN  FOR_SALE                731.276   \n",
       "1       select           NaN          NaN  FOR_SALE                820.737   \n",
       "2       select           NaN          NaN  FOR_SALE               2447.620   \n",
       "3       market           NaN          NaN  FOR_SALE                583.255   \n",
       "4       select           NaN          NaN  FOR_SALE                516.081   \n",
       "\n",
       "  suits  towerHasElevator  unitHasServiceBathroom  unitHasServiceBedroom  \\\n",
       "0     1             False                   False                  False   \n",
       "1     2             False                   False                  False   \n",
       "2     0              True                   False                  False   \n",
       "3     1              True                   False                  False   \n",
       "4     0              True                   False                  False   \n",
       "\n",
       "   unitId  \n",
       "0  272294  \n",
       "1  552186  \n",
       "2  942879  \n",
       "3  770487  \n",
       "4  494114  \n",
       "\n",
       "[5 rows x 35 columns]"
      ]
     },
     "execution_count": 4,
     "metadata": {},
     "output_type": "execute_result"
    }
   ],
   "source": [
    "imoveis.head()"
   ]
  },
  {
   "cell_type": "code",
   "execution_count": 5,
   "metadata": {},
   "outputs": [
    {
     "data": {
      "text/html": [
       "<div>\n",
       "<style scoped>\n",
       "    .dataframe tbody tr th:only-of-type {\n",
       "        vertical-align: middle;\n",
       "    }\n",
       "\n",
       "    .dataframe tbody tr th {\n",
       "        vertical-align: top;\n",
       "    }\n",
       "\n",
       "    .dataframe thead th {\n",
       "        text-align: right;\n",
       "    }\n",
       "</style>\n",
       "<table border=\"1\" class=\"dataframe\">\n",
       "  <thead>\n",
       "    <tr style=\"text-align: right;\">\n",
       "      <th></th>\n",
       "      <th>ANO_BO</th>\n",
       "      <th>NUM_BO</th>\n",
       "      <th>NUMERO_BOLETIM</th>\n",
       "      <th>BO_INICIADO</th>\n",
       "      <th>BO_EMITIDO</th>\n",
       "      <th>DATAOCORRENCIA</th>\n",
       "      <th>HORAOCORRENCIA</th>\n",
       "      <th>PERIDOOCORRENCIA</th>\n",
       "      <th>DATACOMUNICACAO</th>\n",
       "      <th>DATAELABORACAO</th>\n",
       "      <th>...</th>\n",
       "      <th>PLACA_VEICULO</th>\n",
       "      <th>UF_VEICULO</th>\n",
       "      <th>CIDADE_VEICULO</th>\n",
       "      <th>DESCR_COR_VEICULO</th>\n",
       "      <th>DESCR_MARCA_VEICULO</th>\n",
       "      <th>ANO_FABRICACAO</th>\n",
       "      <th>ANO_MODELO</th>\n",
       "      <th>DESCR_TIPO_VEICULO</th>\n",
       "      <th>QUANT_CELULAR</th>\n",
       "      <th>MARCA_CELULAR</th>\n",
       "    </tr>\n",
       "  </thead>\n",
       "  <tbody>\n",
       "    <tr>\n",
       "      <th>0</th>\n",
       "      <td>2020</td>\n",
       "      <td>1</td>\n",
       "      <td>2020-01-01 00:00:00</td>\n",
       "      <td>2020-01-01 00:36:08</td>\n",
       "      <td>2020-01-01 01:31:07</td>\n",
       "      <td>2019-12-31</td>\n",
       "      <td>20:00:00</td>\n",
       "      <td>A NOITE</td>\n",
       "      <td>2020-01-01</td>\n",
       "      <td>2020-01-01 00:36:08</td>\n",
       "      <td>...</td>\n",
       "      <td>NaN</td>\n",
       "      <td>NaN</td>\n",
       "      <td>NaN</td>\n",
       "      <td>NaN</td>\n",
       "      <td>NaN</td>\n",
       "      <td>0</td>\n",
       "      <td>0</td>\n",
       "      <td>NaN</td>\n",
       "      <td>NaN</td>\n",
       "      <td>NaN</td>\n",
       "    </tr>\n",
       "    <tr>\n",
       "      <th>1</th>\n",
       "      <td>2020</td>\n",
       "      <td>1</td>\n",
       "      <td>2020-01-01 00:00:00</td>\n",
       "      <td>2020-01-01 00:36:08</td>\n",
       "      <td>2020-01-01 01:31:07</td>\n",
       "      <td>2019-12-31</td>\n",
       "      <td>20:00:00</td>\n",
       "      <td>A NOITE</td>\n",
       "      <td>2020-01-01</td>\n",
       "      <td>2020-01-01 00:36:08</td>\n",
       "      <td>...</td>\n",
       "      <td>NaN</td>\n",
       "      <td>NaN</td>\n",
       "      <td>NaN</td>\n",
       "      <td>NaN</td>\n",
       "      <td>NaN</td>\n",
       "      <td>0</td>\n",
       "      <td>0</td>\n",
       "      <td>NaN</td>\n",
       "      <td>NaN</td>\n",
       "      <td>NaN</td>\n",
       "    </tr>\n",
       "    <tr>\n",
       "      <th>2</th>\n",
       "      <td>2019</td>\n",
       "      <td>10282</td>\n",
       "      <td>10282/2019</td>\n",
       "      <td>2019-12-31 23:12:20</td>\n",
       "      <td>2020-01-01 09:43:16</td>\n",
       "      <td>2019-12-31</td>\n",
       "      <td>13:12:00</td>\n",
       "      <td>A TARDE</td>\n",
       "      <td>2019-12-31</td>\n",
       "      <td>2019-12-31 23:12:20</td>\n",
       "      <td>...</td>\n",
       "      <td>NaN</td>\n",
       "      <td>NaN</td>\n",
       "      <td>NaN</td>\n",
       "      <td>NaN</td>\n",
       "      <td>NaN</td>\n",
       "      <td>0</td>\n",
       "      <td>0</td>\n",
       "      <td>NaN</td>\n",
       "      <td>NaN</td>\n",
       "      <td>NaN</td>\n",
       "    </tr>\n",
       "    <tr>\n",
       "      <th>3</th>\n",
       "      <td>2019</td>\n",
       "      <td>10282</td>\n",
       "      <td>10282/2019</td>\n",
       "      <td>2019-12-31 23:12:20</td>\n",
       "      <td>2020-01-01 09:43:16</td>\n",
       "      <td>2019-12-31</td>\n",
       "      <td>13:12:00</td>\n",
       "      <td>A TARDE</td>\n",
       "      <td>2019-12-31</td>\n",
       "      <td>2019-12-31 23:12:20</td>\n",
       "      <td>...</td>\n",
       "      <td>CPP7367</td>\n",
       "      <td>SP</td>\n",
       "      <td>S.PAULO</td>\n",
       "      <td>Preta</td>\n",
       "      <td>YAMAHA/FZ25 FAZER</td>\n",
       "      <td>2019</td>\n",
       "      <td>2019</td>\n",
       "      <td>MOTOCICLO</td>\n",
       "      <td>NaN</td>\n",
       "      <td>NaN</td>\n",
       "    </tr>\n",
       "    <tr>\n",
       "      <th>4</th>\n",
       "      <td>2019</td>\n",
       "      <td>10282</td>\n",
       "      <td>10282/2019</td>\n",
       "      <td>2019-12-31 23:12:20</td>\n",
       "      <td>2020-01-01 09:43:16</td>\n",
       "      <td>2019-12-31</td>\n",
       "      <td>13:12:00</td>\n",
       "      <td>A TARDE</td>\n",
       "      <td>2019-12-31</td>\n",
       "      <td>2019-12-31 23:12:20</td>\n",
       "      <td>...</td>\n",
       "      <td>NaN</td>\n",
       "      <td>NaN</td>\n",
       "      <td>NaN</td>\n",
       "      <td>NaN</td>\n",
       "      <td>NaN</td>\n",
       "      <td>0</td>\n",
       "      <td>0</td>\n",
       "      <td>NaN</td>\n",
       "      <td>NaN</td>\n",
       "      <td>NaN</td>\n",
       "    </tr>\n",
       "  </tbody>\n",
       "</table>\n",
       "<p>5 rows × 54 columns</p>\n",
       "</div>"
      ],
      "text/plain": [
       "   ANO_BO  NUM_BO       NUMERO_BOLETIM         BO_INICIADO  \\\n",
       "0    2020       1  2020-01-01 00:00:00 2020-01-01 00:36:08   \n",
       "1    2020       1  2020-01-01 00:00:00 2020-01-01 00:36:08   \n",
       "2    2019   10282           10282/2019 2019-12-31 23:12:20   \n",
       "3    2019   10282           10282/2019 2019-12-31 23:12:20   \n",
       "4    2019   10282           10282/2019 2019-12-31 23:12:20   \n",
       "\n",
       "           BO_EMITIDO DATAOCORRENCIA HORAOCORRENCIA PERIDOOCORRENCIA  \\\n",
       "0 2020-01-01 01:31:07     2019-12-31       20:00:00          A NOITE   \n",
       "1 2020-01-01 01:31:07     2019-12-31       20:00:00          A NOITE   \n",
       "2 2020-01-01 09:43:16     2019-12-31       13:12:00          A TARDE   \n",
       "3 2020-01-01 09:43:16     2019-12-31       13:12:00          A TARDE   \n",
       "4 2020-01-01 09:43:16     2019-12-31       13:12:00          A TARDE   \n",
       "\n",
       "  DATACOMUNICACAO      DATAELABORACAO  ... PLACA_VEICULO UF_VEICULO  \\\n",
       "0      2020-01-01 2020-01-01 00:36:08  ...           NaN        NaN   \n",
       "1      2020-01-01 2020-01-01 00:36:08  ...           NaN        NaN   \n",
       "2      2019-12-31 2019-12-31 23:12:20  ...           NaN        NaN   \n",
       "3      2019-12-31 2019-12-31 23:12:20  ...       CPP7367         SP   \n",
       "4      2019-12-31 2019-12-31 23:12:20  ...           NaN        NaN   \n",
       "\n",
       "  CIDADE_VEICULO DESCR_COR_VEICULO  DESCR_MARCA_VEICULO ANO_FABRICACAO  \\\n",
       "0            NaN               NaN                  NaN              0   \n",
       "1            NaN               NaN                  NaN              0   \n",
       "2            NaN               NaN                  NaN              0   \n",
       "3        S.PAULO             Preta    YAMAHA/FZ25 FAZER           2019   \n",
       "4            NaN               NaN                  NaN              0   \n",
       "\n",
       "  ANO_MODELO DESCR_TIPO_VEICULO  QUANT_CELULAR  MARCA_CELULAR  \n",
       "0          0                NaN            NaN            NaN  \n",
       "1          0                NaN            NaN            NaN  \n",
       "2          0                NaN            NaN            NaN  \n",
       "3       2019          MOTOCICLO            NaN            NaN  \n",
       "4          0                NaN            NaN            NaN  \n",
       "\n",
       "[5 rows x 54 columns]"
      ]
     },
     "execution_count": 5,
     "metadata": {},
     "output_type": "execute_result"
    }
   ],
   "source": [
    "latrocinios.head()"
   ]
  },
  {
   "cell_type": "markdown",
   "metadata": {},
   "source": [
    "## Verificando o tamanho do dataset de imóveis"
   ]
  },
  {
   "cell_type": "code",
   "execution_count": 6,
   "metadata": {},
   "outputs": [
    {
     "name": "stdout",
     "output_type": "stream",
     "text": [
      "Quantidade de Linhas: 7957\n",
      "Quantidade de Colunas: 35\n"
     ]
    }
   ],
   "source": [
    "print(f'Quantidade de Linhas: {imoveis.shape[0]}')\n",
    "print(f'Quantidade de Colunas: {imoveis.shape[1]}')"
   ]
  },
  {
   "cell_type": "markdown",
   "metadata": {},
   "source": [
    "## Verificando o tamanho do dataset de latrocínio"
   ]
  },
  {
   "cell_type": "code",
   "execution_count": 7,
   "metadata": {},
   "outputs": [
    {
     "name": "stdout",
     "output_type": "stream",
     "text": [
      "Quantidade de Linhas: 431\n",
      "Quantidade de Colunas: 54\n"
     ]
    }
   ],
   "source": [
    "print(f'Quantidade de Linhas: {latrocinios.shape[0]}')\n",
    "print(f'Quantidade de Colunas: {latrocinios.shape[1]}')"
   ]
  },
  {
   "cell_type": "markdown",
   "metadata": {},
   "source": [
    "# Análises Preliminares do Dataset de imóveis\n",
    "<hr style='border: 2px solid'>"
   ]
  },
  {
   "cell_type": "markdown",
   "metadata": {},
   "source": [
    "## Verificando a coluna address"
   ]
  },
  {
   "cell_type": "code",
   "execution_count": 8,
   "metadata": {},
   "outputs": [
    {
     "data": {
      "text/plain": [
       "0    {'id': '4750', 'lat': '-23.60053000', 'lng': '...\n",
       "1    {'id': '13993', 'lat': '-23.53410960', 'lng': ...\n",
       "2    {'id': '23795', 'lat': '-23.64356130', 'lng': ...\n",
       "3    {'id': '19647', 'lat': '-23.53524520', 'lng': ...\n",
       "4    {'id': '12316', 'lat': '-23.56417670', 'lng': ...\n",
       "Name: address, dtype: object"
      ]
     },
     "execution_count": 8,
     "metadata": {},
     "output_type": "execute_result"
    }
   ],
   "source": [
    "imoveis.address.head()"
   ]
  },
  {
   "cell_type": "code",
   "execution_count": 9,
   "metadata": {},
   "outputs": [
    {
     "data": {
      "text/plain": [
       "\"{'id': '4750', 'lat': '-23.60053000', 'lng': '-46.66848840', 'city': 'São Paulo', 'type': 'apartment', 'number': '121', 'streetName': 'Jacutinga', 'streetType': 'Avenida', 'unitNumber': '121', 'neighborhood': 'Moema Pássaros'}\""
      ]
     },
     "execution_count": 9,
     "metadata": {},
     "output_type": "execute_result"
    }
   ],
   "source": [
    "imoveis.address.loc[0]"
   ]
  },
  {
   "cell_type": "markdown",
   "metadata": {},
   "source": [
    "<p style='font-size: 18px; line-height: 2; margin: 10px 50px; text-align: justify;'>É facil notar que essa coluna é um dicionario e precisamos transformar esse dicionario em novas colunas do nosso dataframe</p>\n"
   ]
  },
  {
   "cell_type": "markdown",
   "metadata": {},
   "source": [
    "## Verificando o tipo de dados contido na coluna address"
   ]
  },
  {
   "cell_type": "code",
   "execution_count": 10,
   "metadata": {},
   "outputs": [
    {
     "data": {
      "text/plain": [
       "str"
      ]
     },
     "execution_count": 10,
     "metadata": {},
     "output_type": "execute_result"
    }
   ],
   "source": [
    "type(imoveis.iloc[0].address)"
   ]
  },
  {
   "cell_type": "markdown",
   "metadata": {},
   "source": [
    "## Convertendo o tipo de dados contido na coluna address"
   ]
  },
  {
   "cell_type": "code",
   "execution_count": 11,
   "metadata": {},
   "outputs": [
    {
     "data": {
      "text/plain": [
       "dict"
      ]
     },
     "execution_count": 11,
     "metadata": {},
     "output_type": "execute_result"
    }
   ],
   "source": [
    "imoveis.address = imoveis.address.apply(eval)\n",
    "type(imoveis.iloc[0].address)"
   ]
  },
  {
   "cell_type": "markdown",
   "metadata": {},
   "source": [
    "## Tranformando a coluna adrees(dict) em colunas do DataFrame"
   ]
  },
  {
   "cell_type": "code",
   "execution_count": 12,
   "metadata": {},
   "outputs": [],
   "source": [
    "frames = []\n",
    "for index, row in imoveis.iterrows():\n",
    "    frames.append(\n",
    "        pd.DataFrame(row['address'],\n",
    "                      index=[index]))\n",
    "addresses = pd.concat(frames)\n",
    "\n",
    "imoveis.drop(columns=['address'], inplace=True)\n",
    "imoveis = pd.merge(imoveis,\n",
    "                      addresses,\n",
    "                      right_index=True,\n",
    "                      left_index=True)\n",
    "imoveis.rename(columns={'id_x': 'id'}, inplace=True)\n",
    "imoveis.drop(columns=['id_y'], inplace=True)"
   ]
  },
  {
   "cell_type": "markdown",
   "metadata": {},
   "source": [
    "## Verificando o novo tamanho do dataset"
   ]
  },
  {
   "cell_type": "code",
   "execution_count": 13,
   "metadata": {},
   "outputs": [
    {
     "name": "stdout",
     "output_type": "stream",
     "text": [
      "Quantidade de Linhas: 7957\n",
      "Quantidade de Colunas: 43\n"
     ]
    }
   ],
   "source": [
    "print(f'Quantidade de Linhas: {imoveis.shape[0]}')\n",
    "print(f'Quantidade de Colunas: {imoveis.shape[1]}')"
   ]
  },
  {
   "cell_type": "code",
   "execution_count": 14,
   "metadata": {},
   "outputs": [
    {
     "data": {
      "text/plain": [
       "Index(['area', 'balconyType', 'bedrooms', 'buildingCommercialType',\n",
       "       'buildingHasAirConditioning', 'buildingHasGarage', 'contractType',\n",
       "       'currentPhase', 'facadeQualification', 'floor',\n",
       "       'gatekeeperAvailability', 'heatingSystem', 'id', 'image',\n",
       "       'image_thumbnail', 'isMarketplace', 'isRentable',\n",
       "       'kitchenServiceAreaViewIsBlocked', 'livingRoomViewIsBlocked',\n",
       "       'livingRoomViewQualification', 'mainBedroomViewIsBlocked',\n",
       "       'otherBedroomsViewsAreBlocked', 'parkingSpots', 'price', 'productType',\n",
       "       'propertyType', 'rentalPrice', 'status', 'subwayShortestDistance',\n",
       "       'suits', 'towerHasElevator', 'unitHasServiceBathroom',\n",
       "       'unitHasServiceBedroom', 'unitId', 'lat', 'lng', 'city', 'type',\n",
       "       'number', 'streetName', 'streetType', 'unitNumber', 'neighborhood'],\n",
       "      dtype='object')"
      ]
     },
     "execution_count": 14,
     "metadata": {},
     "output_type": "execute_result"
    }
   ],
   "source": [
    "imoveis.columns"
   ]
  },
  {
   "cell_type": "markdown",
   "metadata": {},
   "source": [
    "<p style='font-size: 18px; line-height: 2; margin: 10px 50px; text-align: justify;'>\n",
    "Percebemos que a após a transformação da coluna address gerou novas colunas sendo elas:</p>\n",
    "\n",
    "<ul style='font-size: 18px; line-height: 2; text-align: justify;'>\n",
    "    <li><b>id</b> - O id do endereço do imóvel</li>\n",
    "    <li><b>lat</b> - A latitude do  imóvel</li>\n",
    "    <li><b>lng</b> - A longitude  do imóvel</li>\n",
    "    <li><b>city</b> - A Cidade do imóvel</li>\n",
    "    <li><b>type</b> - O tipo do endereço do imóvel</li>\n",
    "    <li><b>number</b> - O número do endereço do imóvel</li>\n",
    "    <li><b>streetName</b> - Nome da rua</li>\n",
    "    <li><b>streetType</b> - Tipo de Rua</li>\n",
    "    <li><b>neighborhood</b> - Vizinhança (Bairro)</li>\n",
    "</ul>"
   ]
  },
  {
   "cell_type": "markdown",
   "metadata": {},
   "source": [
    "## Verificando valores duplicados"
   ]
  },
  {
   "cell_type": "code",
   "execution_count": 15,
   "metadata": {},
   "outputs": [
    {
     "data": {
      "text/plain": [
       "0"
      ]
     },
     "execution_count": 15,
     "metadata": {},
     "output_type": "execute_result"
    }
   ],
   "source": [
    "imoveis.duplicated().sum()"
   ]
  },
  {
   "cell_type": "markdown",
   "metadata": {},
   "source": [
    "<p style='font-size: 18px; line-height: 2; margin: 10px 50px; text-align: justify;'>\n",
    "Percebemos que não existem valores duplicados</p>"
   ]
  },
  {
   "cell_type": "markdown",
   "metadata": {},
   "source": [
    "## Verificando valores faltantes"
   ]
  },
  {
   "cell_type": "code",
   "execution_count": 16,
   "metadata": {},
   "outputs": [
    {
     "data": {
      "text/html": [
       "<div>\n",
       "<style scoped>\n",
       "    .dataframe tbody tr th:only-of-type {\n",
       "        vertical-align: middle;\n",
       "    }\n",
       "\n",
       "    .dataframe tbody tr th {\n",
       "        vertical-align: top;\n",
       "    }\n",
       "\n",
       "    .dataframe thead th {\n",
       "        text-align: right;\n",
       "    }\n",
       "</style>\n",
       "<table border=\"1\" class=\"dataframe\">\n",
       "  <thead>\n",
       "    <tr style=\"text-align: right;\">\n",
       "      <th></th>\n",
       "      <th>percentual</th>\n",
       "    </tr>\n",
       "  </thead>\n",
       "  <tbody>\n",
       "    <tr>\n",
       "      <th>balconyType</th>\n",
       "      <td>100.00</td>\n",
       "    </tr>\n",
       "    <tr>\n",
       "      <th>buildingCommercialType</th>\n",
       "      <td>100.00</td>\n",
       "    </tr>\n",
       "    <tr>\n",
       "      <th>facadeQualification</th>\n",
       "      <td>100.00</td>\n",
       "    </tr>\n",
       "    <tr>\n",
       "      <th>gatekeeperAvailability</th>\n",
       "      <td>100.00</td>\n",
       "    </tr>\n",
       "    <tr>\n",
       "      <th>heatingSystem</th>\n",
       "      <td>100.00</td>\n",
       "    </tr>\n",
       "    <tr>\n",
       "      <th>livingRoomViewQualification</th>\n",
       "      <td>100.00</td>\n",
       "    </tr>\n",
       "    <tr>\n",
       "      <th>propertyType</th>\n",
       "      <td>100.00</td>\n",
       "    </tr>\n",
       "    <tr>\n",
       "      <th>rentalPrice</th>\n",
       "      <td>99.71</td>\n",
       "    </tr>\n",
       "    <tr>\n",
       "      <th>number</th>\n",
       "      <td>29.06</td>\n",
       "    </tr>\n",
       "    <tr>\n",
       "      <th>unitNumber</th>\n",
       "      <td>29.06</td>\n",
       "    </tr>\n",
       "    <tr>\n",
       "      <th>subwayShortestDistance</th>\n",
       "      <td>0.98</td>\n",
       "    </tr>\n",
       "    <tr>\n",
       "      <th>currentPhase</th>\n",
       "      <td>0.03</td>\n",
       "    </tr>\n",
       "  </tbody>\n",
       "</table>\n",
       "</div>"
      ],
      "text/plain": [
       "                             percentual\n",
       "balconyType                      100.00\n",
       "buildingCommercialType           100.00\n",
       "facadeQualification              100.00\n",
       "gatekeeperAvailability           100.00\n",
       "heatingSystem                    100.00\n",
       "livingRoomViewQualification      100.00\n",
       "propertyType                     100.00\n",
       "rentalPrice                       99.71\n",
       "number                            29.06\n",
       "unitNumber                        29.06\n",
       "subwayShortestDistance             0.98\n",
       "currentPhase                       0.03"
      ]
     },
     "execution_count": 16,
     "metadata": {},
     "output_type": "execute_result"
    }
   ],
   "source": [
    "pd.DataFrame((imoveis.isnull().sum()[imoveis.isnull().sum() > 0] / imoveis.shape[0] * 100).sort_values(ascending=False).round(2)).rename(columns={0: 'percentual'})"
   ]
  },
  {
   "cell_type": "markdown",
   "metadata": {},
   "source": [
    "<p style='font-size: 18px; line-height: 2; margin: 10px 50px; text-align: justify;'>\n",
    "Depois da execução do código acima é possível notar que existem colunas 100% vazias (Com valores faltantes).</p>"
   ]
  },
  {
   "cell_type": "markdown",
   "metadata": {},
   "source": [
    "## Recuperando as colunas com valores 100% ausentes"
   ]
  },
  {
   "cell_type": "code",
   "execution_count": 17,
   "metadata": {},
   "outputs": [
    {
     "data": {
      "text/plain": [
       "Index(['balconyType', 'buildingCommercialType', 'facadeQualification',\n",
       "       'gatekeeperAvailability', 'heatingSystem',\n",
       "       'livingRoomViewQualification', 'propertyType'],\n",
       "      dtype='object')"
      ]
     },
     "execution_count": 17,
     "metadata": {},
     "output_type": "execute_result"
    }
   ],
   "source": [
    "pd.DataFrame(imoveis.isnull().sum()[imoveis.isnull().sum() / imoveis.shape[0] == 1.0]).index"
   ]
  },
  {
   "cell_type": "markdown",
   "metadata": {},
   "source": [
    "## Removendo colunas 100% preenchidas com valores ausentes"
   ]
  },
  {
   "cell_type": "code",
   "execution_count": 18,
   "metadata": {},
   "outputs": [],
   "source": [
    "imoveis.drop(columns=['balconyType', 'buildingCommercialType', 'facadeQualification',\n",
    "       'gatekeeperAvailability', 'heatingSystem',\n",
    "       'livingRoomViewQualification', 'propertyType'], inplace=True)"
   ]
  },
  {
   "cell_type": "markdown",
   "metadata": {},
   "source": [
    "## Removendo a coluna retalPrice"
   ]
  },
  {
   "cell_type": "code",
   "execution_count": 19,
   "metadata": {},
   "outputs": [],
   "source": [
    "imoveis.drop(columns=['rentalPrice'], inplace=True)"
   ]
  },
  {
   "cell_type": "markdown",
   "metadata": {},
   "source": [
    "<p style='font-size: 18px; line-height: 2; margin: 10px 50px; text-align: justify;'>Como queremos prever preço de venda de imóveis, não se faz necessária a coluna rentalPrice (Preço do Aluguel) ainda mais considerando que ela possui 99.71% de valores ausentes.</p>"
   ]
  },
  {
   "cell_type": "markdown",
   "metadata": {},
   "source": [
    "## Verificando valores faltantes restantes"
   ]
  },
  {
   "cell_type": "code",
   "execution_count": 20,
   "metadata": {},
   "outputs": [
    {
     "data": {
      "text/html": [
       "<div>\n",
       "<style scoped>\n",
       "    .dataframe tbody tr th:only-of-type {\n",
       "        vertical-align: middle;\n",
       "    }\n",
       "\n",
       "    .dataframe tbody tr th {\n",
       "        vertical-align: top;\n",
       "    }\n",
       "\n",
       "    .dataframe thead th {\n",
       "        text-align: right;\n",
       "    }\n",
       "</style>\n",
       "<table border=\"1\" class=\"dataframe\">\n",
       "  <thead>\n",
       "    <tr style=\"text-align: right;\">\n",
       "      <th></th>\n",
       "      <th>percentual</th>\n",
       "    </tr>\n",
       "  </thead>\n",
       "  <tbody>\n",
       "    <tr>\n",
       "      <th>number</th>\n",
       "      <td>29.056</td>\n",
       "    </tr>\n",
       "    <tr>\n",
       "      <th>unitNumber</th>\n",
       "      <td>29.056</td>\n",
       "    </tr>\n",
       "    <tr>\n",
       "      <th>subwayShortestDistance</th>\n",
       "      <td>0.980</td>\n",
       "    </tr>\n",
       "    <tr>\n",
       "      <th>currentPhase</th>\n",
       "      <td>0.025</td>\n",
       "    </tr>\n",
       "  </tbody>\n",
       "</table>\n",
       "</div>"
      ],
      "text/plain": [
       "                        percentual\n",
       "number                      29.056\n",
       "unitNumber                  29.056\n",
       "subwayShortestDistance       0.980\n",
       "currentPhase                 0.025"
      ]
     },
     "execution_count": 20,
     "metadata": {},
     "output_type": "execute_result"
    }
   ],
   "source": [
    "ausentes_percentual = pd.DataFrame((imoveis.isnull().sum()[imoveis.isnull().sum() > 0] / imoveis.shape[0] * 100).sort_values(ascending=False).round(3))\n",
    "ausentes_percentual.rename(columns={0: 'percentual'}, inplace=True)\n",
    "ausentes_percentual"
   ]
  },
  {
   "cell_type": "code",
   "execution_count": 21,
   "metadata": {},
   "outputs": [
    {
     "data": {
      "text/html": [
       "<div>\n",
       "<style scoped>\n",
       "    .dataframe tbody tr th:only-of-type {\n",
       "        vertical-align: middle;\n",
       "    }\n",
       "\n",
       "    .dataframe tbody tr th {\n",
       "        vertical-align: top;\n",
       "    }\n",
       "\n",
       "    .dataframe thead th {\n",
       "        text-align: right;\n",
       "    }\n",
       "</style>\n",
       "<table border=\"1\" class=\"dataframe\">\n",
       "  <thead>\n",
       "    <tr style=\"text-align: right;\">\n",
       "      <th></th>\n",
       "      <th>quantidade</th>\n",
       "    </tr>\n",
       "  </thead>\n",
       "  <tbody>\n",
       "    <tr>\n",
       "      <th>currentPhase</th>\n",
       "      <td>2</td>\n",
       "    </tr>\n",
       "    <tr>\n",
       "      <th>subwayShortestDistance</th>\n",
       "      <td>78</td>\n",
       "    </tr>\n",
       "    <tr>\n",
       "      <th>number</th>\n",
       "      <td>2312</td>\n",
       "    </tr>\n",
       "    <tr>\n",
       "      <th>unitNumber</th>\n",
       "      <td>2312</td>\n",
       "    </tr>\n",
       "  </tbody>\n",
       "</table>\n",
       "</div>"
      ],
      "text/plain": [
       "                        quantidade\n",
       "currentPhase                     2\n",
       "subwayShortestDistance          78\n",
       "number                        2312\n",
       "unitNumber                    2312"
      ]
     },
     "execution_count": 21,
     "metadata": {},
     "output_type": "execute_result"
    }
   ],
   "source": [
    "ausentes_quantidade = pd.DataFrame(imoveis.isnull().sum()[imoveis.isnull().sum() > 0])\n",
    "ausentes_quantidade.rename(columns={0: 'quantidade'}, inplace=True)\n",
    "ausentes_quantidade"
   ]
  },
  {
   "cell_type": "code",
   "execution_count": 22,
   "metadata": {},
   "outputs": [
    {
     "data": {
      "text/html": [
       "<div>\n",
       "<style scoped>\n",
       "    .dataframe tbody tr th:only-of-type {\n",
       "        vertical-align: middle;\n",
       "    }\n",
       "\n",
       "    .dataframe tbody tr th {\n",
       "        vertical-align: top;\n",
       "    }\n",
       "\n",
       "    .dataframe thead th {\n",
       "        text-align: right;\n",
       "    }\n",
       "</style>\n",
       "<table border=\"1\" class=\"dataframe\">\n",
       "  <thead>\n",
       "    <tr style=\"text-align: right;\">\n",
       "      <th></th>\n",
       "      <th>percentual</th>\n",
       "      <th>quantidade</th>\n",
       "    </tr>\n",
       "  </thead>\n",
       "  <tbody>\n",
       "    <tr>\n",
       "      <th>number</th>\n",
       "      <td>29.056</td>\n",
       "      <td>2312</td>\n",
       "    </tr>\n",
       "    <tr>\n",
       "      <th>unitNumber</th>\n",
       "      <td>29.056</td>\n",
       "      <td>2312</td>\n",
       "    </tr>\n",
       "    <tr>\n",
       "      <th>subwayShortestDistance</th>\n",
       "      <td>0.980</td>\n",
       "      <td>78</td>\n",
       "    </tr>\n",
       "    <tr>\n",
       "      <th>currentPhase</th>\n",
       "      <td>0.025</td>\n",
       "      <td>2</td>\n",
       "    </tr>\n",
       "  </tbody>\n",
       "</table>\n",
       "</div>"
      ],
      "text/plain": [
       "                        percentual  quantidade\n",
       "number                      29.056        2312\n",
       "unitNumber                  29.056        2312\n",
       "subwayShortestDistance       0.980          78\n",
       "currentPhase                 0.025           2"
      ]
     },
     "execution_count": 22,
     "metadata": {},
     "output_type": "execute_result"
    }
   ],
   "source": [
    "pd.merge(ausentes_percentual, \n",
    "         ausentes_quantidade,\n",
    "         left_index=True, right_index=True,\n",
    "         how='inner')"
   ]
  },
  {
   "cell_type": "markdown",
   "metadata": {},
   "source": [
    "## Verificando o quanto os valores faltantes da coluna subwayShortestDistance influenciam na amostra por bairro"
   ]
  },
  {
   "cell_type": "code",
   "execution_count": 23,
   "metadata": {},
   "outputs": [
    {
     "data": {
      "text/html": [
       "<div>\n",
       "<style scoped>\n",
       "    .dataframe tbody tr th:only-of-type {\n",
       "        vertical-align: middle;\n",
       "    }\n",
       "\n",
       "    .dataframe tbody tr th {\n",
       "        vertical-align: top;\n",
       "    }\n",
       "\n",
       "    .dataframe thead th {\n",
       "        text-align: right;\n",
       "    }\n",
       "</style>\n",
       "<table border=\"1\" class=\"dataframe\">\n",
       "  <thead>\n",
       "    <tr style=\"text-align: right;\">\n",
       "      <th></th>\n",
       "      <th>faltantes</th>\n",
       "      <th>total</th>\n",
       "      <th>%</th>\n",
       "    </tr>\n",
       "  </thead>\n",
       "  <tbody>\n",
       "    <tr>\n",
       "      <th>Socorro</th>\n",
       "      <td>1</td>\n",
       "      <td>11</td>\n",
       "      <td>9.09</td>\n",
       "    </tr>\n",
       "    <tr>\n",
       "      <th>Jardim São Luís</th>\n",
       "      <td>1</td>\n",
       "      <td>21</td>\n",
       "      <td>4.76</td>\n",
       "    </tr>\n",
       "    <tr>\n",
       "      <th>Casa Verde</th>\n",
       "      <td>2</td>\n",
       "      <td>50</td>\n",
       "      <td>4.00</td>\n",
       "    </tr>\n",
       "    <tr>\n",
       "      <th>Cidade Líder</th>\n",
       "      <td>1</td>\n",
       "      <td>26</td>\n",
       "      <td>3.85</td>\n",
       "    </tr>\n",
       "    <tr>\n",
       "      <th>Tatuapé</th>\n",
       "      <td>5</td>\n",
       "      <td>143</td>\n",
       "      <td>3.50</td>\n",
       "    </tr>\n",
       "    <tr>\n",
       "      <th>Cangaíba</th>\n",
       "      <td>1</td>\n",
       "      <td>29</td>\n",
       "      <td>3.45</td>\n",
       "    </tr>\n",
       "    <tr>\n",
       "      <th>Freguesia do Ó</th>\n",
       "      <td>2</td>\n",
       "      <td>58</td>\n",
       "      <td>3.45</td>\n",
       "    </tr>\n",
       "    <tr>\n",
       "      <th>Campo Limpo</th>\n",
       "      <td>2</td>\n",
       "      <td>61</td>\n",
       "      <td>3.28</td>\n",
       "    </tr>\n",
       "    <tr>\n",
       "      <th>Aricanduva</th>\n",
       "      <td>1</td>\n",
       "      <td>31</td>\n",
       "      <td>3.23</td>\n",
       "    </tr>\n",
       "    <tr>\n",
       "      <th>Limão</th>\n",
       "      <td>1</td>\n",
       "      <td>31</td>\n",
       "      <td>3.23</td>\n",
       "    </tr>\n",
       "    <tr>\n",
       "      <th>Tucuruvi</th>\n",
       "      <td>2</td>\n",
       "      <td>66</td>\n",
       "      <td>3.03</td>\n",
       "    </tr>\n",
       "    <tr>\n",
       "      <th>Pinheiros</th>\n",
       "      <td>4</td>\n",
       "      <td>135</td>\n",
       "      <td>2.96</td>\n",
       "    </tr>\n",
       "    <tr>\n",
       "      <th>Vila Maria</th>\n",
       "      <td>1</td>\n",
       "      <td>34</td>\n",
       "      <td>2.94</td>\n",
       "    </tr>\n",
       "    <tr>\n",
       "      <th>Vila Matilde</th>\n",
       "      <td>1</td>\n",
       "      <td>34</td>\n",
       "      <td>2.94</td>\n",
       "    </tr>\n",
       "    <tr>\n",
       "      <th>Higienópolis</th>\n",
       "      <td>4</td>\n",
       "      <td>140</td>\n",
       "      <td>2.86</td>\n",
       "    </tr>\n",
       "    <tr>\n",
       "      <th>Barra Funda</th>\n",
       "      <td>1</td>\n",
       "      <td>39</td>\n",
       "      <td>2.56</td>\n",
       "    </tr>\n",
       "    <tr>\n",
       "      <th>Belém</th>\n",
       "      <td>1</td>\n",
       "      <td>41</td>\n",
       "      <td>2.44</td>\n",
       "    </tr>\n",
       "    <tr>\n",
       "      <th>Ipiranga</th>\n",
       "      <td>4</td>\n",
       "      <td>171</td>\n",
       "      <td>2.34</td>\n",
       "    </tr>\n",
       "    <tr>\n",
       "      <th>Carrão</th>\n",
       "      <td>1</td>\n",
       "      <td>45</td>\n",
       "      <td>2.22</td>\n",
       "    </tr>\n",
       "    <tr>\n",
       "      <th>Campo Belo</th>\n",
       "      <td>4</td>\n",
       "      <td>220</td>\n",
       "      <td>1.82</td>\n",
       "    </tr>\n",
       "    <tr>\n",
       "      <th>Jaguaré</th>\n",
       "      <td>1</td>\n",
       "      <td>56</td>\n",
       "      <td>1.79</td>\n",
       "    </tr>\n",
       "    <tr>\n",
       "      <th>Moema Pássaros</th>\n",
       "      <td>2</td>\n",
       "      <td>125</td>\n",
       "      <td>1.60</td>\n",
       "    </tr>\n",
       "    <tr>\n",
       "      <th>Sumaré</th>\n",
       "      <td>1</td>\n",
       "      <td>67</td>\n",
       "      <td>1.49</td>\n",
       "    </tr>\n",
       "    <tr>\n",
       "      <th>Água Rasa</th>\n",
       "      <td>1</td>\n",
       "      <td>74</td>\n",
       "      <td>1.35</td>\n",
       "    </tr>\n",
       "    <tr>\n",
       "      <th>Vila Sônia</th>\n",
       "      <td>2</td>\n",
       "      <td>153</td>\n",
       "      <td>1.31</td>\n",
       "    </tr>\n",
       "    <tr>\n",
       "      <th>Mandaqui</th>\n",
       "      <td>1</td>\n",
       "      <td>84</td>\n",
       "      <td>1.19</td>\n",
       "    </tr>\n",
       "    <tr>\n",
       "      <th>Itaim Bibi</th>\n",
       "      <td>1</td>\n",
       "      <td>86</td>\n",
       "      <td>1.16</td>\n",
       "    </tr>\n",
       "    <tr>\n",
       "      <th>Bom Retiro</th>\n",
       "      <td>2</td>\n",
       "      <td>182</td>\n",
       "      <td>1.10</td>\n",
       "    </tr>\n",
       "    <tr>\n",
       "      <th>Saúde</th>\n",
       "      <td>2</td>\n",
       "      <td>192</td>\n",
       "      <td>1.04</td>\n",
       "    </tr>\n",
       "    <tr>\n",
       "      <th>Cambuci</th>\n",
       "      <td>1</td>\n",
       "      <td>101</td>\n",
       "      <td>0.99</td>\n",
       "    </tr>\n",
       "    <tr>\n",
       "      <th>Vila Prudente</th>\n",
       "      <td>1</td>\n",
       "      <td>102</td>\n",
       "      <td>0.98</td>\n",
       "    </tr>\n",
       "    <tr>\n",
       "      <th>Vila Madalena</th>\n",
       "      <td>1</td>\n",
       "      <td>105</td>\n",
       "      <td>0.95</td>\n",
       "    </tr>\n",
       "    <tr>\n",
       "      <th>Paraíso</th>\n",
       "      <td>1</td>\n",
       "      <td>107</td>\n",
       "      <td>0.93</td>\n",
       "    </tr>\n",
       "    <tr>\n",
       "      <th>Chacara Klabin</th>\n",
       "      <td>1</td>\n",
       "      <td>110</td>\n",
       "      <td>0.91</td>\n",
       "    </tr>\n",
       "    <tr>\n",
       "      <th>Campo Grande</th>\n",
       "      <td>1</td>\n",
       "      <td>111</td>\n",
       "      <td>0.90</td>\n",
       "    </tr>\n",
       "    <tr>\n",
       "      <th>Sacomã</th>\n",
       "      <td>2</td>\n",
       "      <td>223</td>\n",
       "      <td>0.90</td>\n",
       "    </tr>\n",
       "    <tr>\n",
       "      <th>Jabaquara</th>\n",
       "      <td>2</td>\n",
       "      <td>237</td>\n",
       "      <td>0.84</td>\n",
       "    </tr>\n",
       "    <tr>\n",
       "      <th>Santana</th>\n",
       "      <td>2</td>\n",
       "      <td>253</td>\n",
       "      <td>0.79</td>\n",
       "    </tr>\n",
       "    <tr>\n",
       "      <th>Bela Vista</th>\n",
       "      <td>2</td>\n",
       "      <td>257</td>\n",
       "      <td>0.78</td>\n",
       "    </tr>\n",
       "    <tr>\n",
       "      <th>Jardim América</th>\n",
       "      <td>1</td>\n",
       "      <td>135</td>\n",
       "      <td>0.74</td>\n",
       "    </tr>\n",
       "    <tr>\n",
       "      <th>Vila Andrade</th>\n",
       "      <td>4</td>\n",
       "      <td>542</td>\n",
       "      <td>0.74</td>\n",
       "    </tr>\n",
       "    <tr>\n",
       "      <th>Santo Amaro</th>\n",
       "      <td>1</td>\n",
       "      <td>136</td>\n",
       "      <td>0.74</td>\n",
       "    </tr>\n",
       "    <tr>\n",
       "      <th>Mooca</th>\n",
       "      <td>1</td>\n",
       "      <td>139</td>\n",
       "      <td>0.72</td>\n",
       "    </tr>\n",
       "    <tr>\n",
       "      <th>Jardim Paulista</th>\n",
       "      <td>1</td>\n",
       "      <td>152</td>\n",
       "      <td>0.66</td>\n",
       "    </tr>\n",
       "    <tr>\n",
       "      <th>República</th>\n",
       "      <td>1</td>\n",
       "      <td>164</td>\n",
       "      <td>0.61</td>\n",
       "    </tr>\n",
       "    <tr>\n",
       "      <th>Cursino</th>\n",
       "      <td>1</td>\n",
       "      <td>174</td>\n",
       "      <td>0.57</td>\n",
       "    </tr>\n",
       "    <tr>\n",
       "      <th>Vila Romana</th>\n",
       "      <td>1</td>\n",
       "      <td>182</td>\n",
       "      <td>0.55</td>\n",
       "    </tr>\n",
       "  </tbody>\n",
       "</table>\n",
       "</div>"
      ],
      "text/plain": [
       "                 faltantes  total     %\n",
       "Socorro                  1     11  9.09\n",
       "Jardim São Luís          1     21  4.76\n",
       "Casa Verde               2     50  4.00\n",
       "Cidade Líder             1     26  3.85\n",
       "Tatuapé                  5    143  3.50\n",
       "Cangaíba                 1     29  3.45\n",
       "Freguesia do Ó           2     58  3.45\n",
       "Campo Limpo              2     61  3.28\n",
       "Aricanduva               1     31  3.23\n",
       "Limão                    1     31  3.23\n",
       "Tucuruvi                 2     66  3.03\n",
       "Pinheiros                4    135  2.96\n",
       "Vila Maria               1     34  2.94\n",
       "Vila Matilde             1     34  2.94\n",
       "Higienópolis             4    140  2.86\n",
       "Barra Funda              1     39  2.56\n",
       "Belém                    1     41  2.44\n",
       "Ipiranga                 4    171  2.34\n",
       "Carrão                   1     45  2.22\n",
       "Campo Belo               4    220  1.82\n",
       "Jaguaré                  1     56  1.79\n",
       "Moema Pássaros           2    125  1.60\n",
       "Sumaré                   1     67  1.49\n",
       "Água Rasa                1     74  1.35\n",
       "Vila Sônia               2    153  1.31\n",
       "Mandaqui                 1     84  1.19\n",
       "Itaim Bibi               1     86  1.16\n",
       "Bom Retiro               2    182  1.10\n",
       "Saúde                    2    192  1.04\n",
       "Cambuci                  1    101  0.99\n",
       "Vila Prudente            1    102  0.98\n",
       "Vila Madalena            1    105  0.95\n",
       "Paraíso                  1    107  0.93\n",
       "Chacara Klabin           1    110  0.91\n",
       "Campo Grande             1    111  0.90\n",
       "Sacomã                   2    223  0.90\n",
       "Jabaquara                2    237  0.84\n",
       "Santana                  2    253  0.79\n",
       "Bela Vista               2    257  0.78\n",
       "Jardim América           1    135  0.74\n",
       "Vila Andrade             4    542  0.74\n",
       "Santo Amaro              1    136  0.74\n",
       "Mooca                    1    139  0.72\n",
       "Jardim Paulista          1    152  0.66\n",
       "República                1    164  0.61\n",
       "Cursino                  1    174  0.57\n",
       "Vila Romana              1    182  0.55"
      ]
     },
     "execution_count": 23,
     "metadata": {},
     "output_type": "execute_result"
    }
   ],
   "source": [
    "total_bairros_com_subwayShortestDistance_ausentes = imoveis[imoveis.subwayShortestDistance.isnull()]['neighborhood'].value_counts().to_frame()\n",
    "total_bairros = imoveis['neighborhood'].value_counts().to_frame()\n",
    "resultado = total_bairros_com_subwayShortestDistance_ausentes.merge(total_bairros, left_index=True, right_index=True)\n",
    "resultado['%'] = ((resultado['neighborhood_x'] / resultado['neighborhood_y']) * 100).round(2)\n",
    "resultado.rename(columns={'neighborhood_x': 'faltantes', 'neighborhood_y': 'total'}, inplace=True)\n",
    "resultado = resultado.sort_values('%', ascending=False)\n",
    "resultado"
   ]
  },
  {
   "cell_type": "code",
   "execution_count": 24,
   "metadata": {},
   "outputs": [
    {
     "data": {
      "text/html": [
       "<div>\n",
       "<style scoped>\n",
       "    .dataframe tbody tr th:only-of-type {\n",
       "        vertical-align: middle;\n",
       "    }\n",
       "\n",
       "    .dataframe tbody tr th {\n",
       "        vertical-align: top;\n",
       "    }\n",
       "\n",
       "    .dataframe thead th {\n",
       "        text-align: right;\n",
       "    }\n",
       "</style>\n",
       "<table border=\"1\" class=\"dataframe\">\n",
       "  <thead>\n",
       "    <tr style=\"text-align: right;\">\n",
       "      <th></th>\n",
       "      <th>faltantes</th>\n",
       "      <th>total</th>\n",
       "      <th>%</th>\n",
       "    </tr>\n",
       "  </thead>\n",
       "  <tbody>\n",
       "    <tr>\n",
       "      <th>Socorro</th>\n",
       "      <td>1</td>\n",
       "      <td>11</td>\n",
       "      <td>9.09</td>\n",
       "    </tr>\n",
       "    <tr>\n",
       "      <th>Jardim São Luís</th>\n",
       "      <td>1</td>\n",
       "      <td>21</td>\n",
       "      <td>4.76</td>\n",
       "    </tr>\n",
       "    <tr>\n",
       "      <th>Casa Verde</th>\n",
       "      <td>2</td>\n",
       "      <td>50</td>\n",
       "      <td>4.00</td>\n",
       "    </tr>\n",
       "    <tr>\n",
       "      <th>Cidade Líder</th>\n",
       "      <td>1</td>\n",
       "      <td>26</td>\n",
       "      <td>3.85</td>\n",
       "    </tr>\n",
       "    <tr>\n",
       "      <th>Tatuapé</th>\n",
       "      <td>5</td>\n",
       "      <td>143</td>\n",
       "      <td>3.50</td>\n",
       "    </tr>\n",
       "    <tr>\n",
       "      <th>Cangaíba</th>\n",
       "      <td>1</td>\n",
       "      <td>29</td>\n",
       "      <td>3.45</td>\n",
       "    </tr>\n",
       "    <tr>\n",
       "      <th>Freguesia do Ó</th>\n",
       "      <td>2</td>\n",
       "      <td>58</td>\n",
       "      <td>3.45</td>\n",
       "    </tr>\n",
       "    <tr>\n",
       "      <th>Campo Limpo</th>\n",
       "      <td>2</td>\n",
       "      <td>61</td>\n",
       "      <td>3.28</td>\n",
       "    </tr>\n",
       "    <tr>\n",
       "      <th>Aricanduva</th>\n",
       "      <td>1</td>\n",
       "      <td>31</td>\n",
       "      <td>3.23</td>\n",
       "    </tr>\n",
       "    <tr>\n",
       "      <th>Limão</th>\n",
       "      <td>1</td>\n",
       "      <td>31</td>\n",
       "      <td>3.23</td>\n",
       "    </tr>\n",
       "  </tbody>\n",
       "</table>\n",
       "</div>"
      ],
      "text/plain": [
       "                 faltantes  total     %\n",
       "Socorro                  1     11  9.09\n",
       "Jardim São Luís          1     21  4.76\n",
       "Casa Verde               2     50  4.00\n",
       "Cidade Líder             1     26  3.85\n",
       "Tatuapé                  5    143  3.50\n",
       "Cangaíba                 1     29  3.45\n",
       "Freguesia do Ó           2     58  3.45\n",
       "Campo Limpo              2     61  3.28\n",
       "Aricanduva               1     31  3.23\n",
       "Limão                    1     31  3.23"
      ]
     },
     "execution_count": 24,
     "metadata": {},
     "output_type": "execute_result"
    }
   ],
   "source": [
    "resultado.head(10) # top 10 faLtantes"
   ]
  },
  {
   "cell_type": "markdown",
   "metadata": {},
   "source": [
    "<p style='font-size: 18px; line-height: 2; margin: 10px 50px; text-align: justify;'>\n",
    "Como nenhum bairro será afetado de forma drásticas e não sabemos como a distância foi medida para replicar o processo, vamos remover as linhas com valores faltantes na coluna subwayShortestDistance.</p>\n",
    "<p style='font-size: 18px; line-height: 2; margin: 10px 50px; text-align: justify;'>\n",
    "Lembrando que os valores ausentes na coluna subwayShortestDistance represetam menos de 1% (0.98)  do total do conjunto de dados.</p>"
   ]
  },
  {
   "cell_type": "markdown",
   "metadata": {},
   "source": [
    "## Removendo as linhas com valores faltantes na coluna subwayShortestDistance"
   ]
  },
  {
   "cell_type": "code",
   "execution_count": 25,
   "metadata": {},
   "outputs": [],
   "source": [
    "imoveis.drop(imoveis[imoveis.subwayShortestDistance.isnull()].index, inplace=True)"
   ]
  },
  {
   "cell_type": "markdown",
   "metadata": {},
   "source": [
    "## Removendo a coluna unitNumber pois a mesma representa o número do apartamento, não sendo esse relevante para o problema"
   ]
  },
  {
   "cell_type": "code",
   "execution_count": 26,
   "metadata": {},
   "outputs": [],
   "source": [
    "imoveis.drop(columns=['unitNumber'], inplace=True)"
   ]
  },
  {
   "cell_type": "markdown",
   "metadata": {},
   "source": [
    "## Removendo a coluna number pois a mesma representa o número do edifício, não sendo esse relevante para o problema"
   ]
  },
  {
   "cell_type": "code",
   "execution_count": 27,
   "metadata": {},
   "outputs": [],
   "source": [
    "imoveis.drop(columns=['number'], inplace=True)"
   ]
  },
  {
   "cell_type": "markdown",
   "metadata": {},
   "source": [
    "## Removendo as duas linhas que tem valores faltantes na coluna currentPhase"
   ]
  },
  {
   "cell_type": "code",
   "execution_count": 28,
   "metadata": {},
   "outputs": [],
   "source": [
    "imoveis.drop(imoveis[imoveis.currentPhase.isnull()].index, inplace=True)"
   ]
  },
  {
   "cell_type": "markdown",
   "metadata": {},
   "source": [
    "<p style='font-size: 18px; line-height: 2; margin: 10px 50px; text-align: justify;'>\n",
    "Os valores ausentes na coluna currentPhase represetam menos de 1% (0.02)  do total do conjunto de dados.</p>"
   ]
  },
  {
   "cell_type": "markdown",
   "metadata": {},
   "source": [
    "## Verificando as colunas que são do tipo bool"
   ]
  },
  {
   "cell_type": "code",
   "execution_count": 29,
   "metadata": {},
   "outputs": [
    {
     "data": {
      "text/plain": [
       "Index(['buildingHasAirConditioning', 'buildingHasGarage', 'isMarketplace',\n",
       "       'isRentable', 'kitchenServiceAreaViewIsBlocked',\n",
       "       'livingRoomViewIsBlocked', 'mainBedroomViewIsBlocked',\n",
       "       'otherBedroomsViewsAreBlocked', 'towerHasElevator',\n",
       "       'unitHasServiceBathroom', 'unitHasServiceBedroom'],\n",
       "      dtype='object')"
      ]
     },
     "execution_count": 29,
     "metadata": {},
     "output_type": "execute_result"
    }
   ],
   "source": [
    "imoveis.dtypes[imoveis.dtypes == bool].index"
   ]
  },
  {
   "cell_type": "markdown",
   "metadata": {},
   "source": [
    "## Verificando as frequencias das colunas que são do tipo bool"
   ]
  },
  {
   "cell_type": "code",
   "execution_count": 30,
   "metadata": {},
   "outputs": [
    {
     "data": {
      "text/html": [
       "<div>\n",
       "<style scoped>\n",
       "    .dataframe tbody tr th:only-of-type {\n",
       "        vertical-align: middle;\n",
       "    }\n",
       "\n",
       "    .dataframe tbody tr th {\n",
       "        vertical-align: top;\n",
       "    }\n",
       "\n",
       "    .dataframe thead th {\n",
       "        text-align: right;\n",
       "    }\n",
       "</style>\n",
       "<table border=\"1\" class=\"dataframe\">\n",
       "  <thead>\n",
       "    <tr style=\"text-align: right;\">\n",
       "      <th></th>\n",
       "      <th>Frequencia</th>\n",
       "      <th>Frequencia Relativa</th>\n",
       "      <th>Coluna</th>\n",
       "    </tr>\n",
       "  </thead>\n",
       "  <tbody>\n",
       "    <tr>\n",
       "      <th>False</th>\n",
       "      <td>7877</td>\n",
       "      <td>100.00</td>\n",
       "      <td>buildingHasAirConditioning</td>\n",
       "    </tr>\n",
       "    <tr>\n",
       "      <th>False</th>\n",
       "      <td>7877</td>\n",
       "      <td>100.00</td>\n",
       "      <td>buildingHasGarage</td>\n",
       "    </tr>\n",
       "    <tr>\n",
       "      <th>True</th>\n",
       "      <td>7518</td>\n",
       "      <td>95.44</td>\n",
       "      <td>isMarketplace</td>\n",
       "    </tr>\n",
       "    <tr>\n",
       "      <th>False</th>\n",
       "      <td>359</td>\n",
       "      <td>4.56</td>\n",
       "      <td>isMarketplace</td>\n",
       "    </tr>\n",
       "    <tr>\n",
       "      <th>False</th>\n",
       "      <td>7877</td>\n",
       "      <td>100.00</td>\n",
       "      <td>isRentable</td>\n",
       "    </tr>\n",
       "    <tr>\n",
       "      <th>False</th>\n",
       "      <td>7877</td>\n",
       "      <td>100.00</td>\n",
       "      <td>kitchenServiceAreaViewIsBlocked</td>\n",
       "    </tr>\n",
       "    <tr>\n",
       "      <th>False</th>\n",
       "      <td>7877</td>\n",
       "      <td>100.00</td>\n",
       "      <td>livingRoomViewIsBlocked</td>\n",
       "    </tr>\n",
       "    <tr>\n",
       "      <th>False</th>\n",
       "      <td>7877</td>\n",
       "      <td>100.00</td>\n",
       "      <td>mainBedroomViewIsBlocked</td>\n",
       "    </tr>\n",
       "    <tr>\n",
       "      <th>False</th>\n",
       "      <td>7877</td>\n",
       "      <td>100.00</td>\n",
       "      <td>otherBedroomsViewsAreBlocked</td>\n",
       "    </tr>\n",
       "    <tr>\n",
       "      <th>True</th>\n",
       "      <td>4762</td>\n",
       "      <td>60.45</td>\n",
       "      <td>towerHasElevator</td>\n",
       "    </tr>\n",
       "    <tr>\n",
       "      <th>False</th>\n",
       "      <td>3115</td>\n",
       "      <td>39.55</td>\n",
       "      <td>towerHasElevator</td>\n",
       "    </tr>\n",
       "    <tr>\n",
       "      <th>False</th>\n",
       "      <td>7877</td>\n",
       "      <td>100.00</td>\n",
       "      <td>unitHasServiceBathroom</td>\n",
       "    </tr>\n",
       "    <tr>\n",
       "      <th>False</th>\n",
       "      <td>7877</td>\n",
       "      <td>100.00</td>\n",
       "      <td>unitHasServiceBedroom</td>\n",
       "    </tr>\n",
       "  </tbody>\n",
       "</table>\n",
       "</div>"
      ],
      "text/plain": [
       "       Frequencia  Frequencia Relativa                           Coluna\n",
       "False        7877               100.00       buildingHasAirConditioning\n",
       "False        7877               100.00                buildingHasGarage\n",
       "True         7518                95.44                    isMarketplace\n",
       "False         359                 4.56                    isMarketplace\n",
       "False        7877               100.00                       isRentable\n",
       "False        7877               100.00  kitchenServiceAreaViewIsBlocked\n",
       "False        7877               100.00          livingRoomViewIsBlocked\n",
       "False        7877               100.00         mainBedroomViewIsBlocked\n",
       "False        7877               100.00     otherBedroomsViewsAreBlocked\n",
       "True         4762                60.45                 towerHasElevator\n",
       "False        3115                39.55                 towerHasElevator\n",
       "False        7877               100.00           unitHasServiceBathroom\n",
       "False        7877               100.00            unitHasServiceBedroom"
      ]
     },
     "execution_count": 30,
     "metadata": {},
     "output_type": "execute_result"
    }
   ],
   "source": [
    "bool_columns = imoveis.dtypes[imoveis.dtypes == bool].index\n",
    "resultado = pd.DataFrame()\n",
    "for column_name in bool_columns:\n",
    "    df_frequencia = pd.DataFrame()\n",
    "    df_frequencia['Frequencia'] = imoveis[column_name].value_counts()\n",
    "    df_frequencia['Frequencia Relativa'] = (imoveis[column_name].value_counts(normalize=True) * 100).round(2)\n",
    "    df_frequencia['Coluna'] = column_name\n",
    "    resultado = resultado.append(df_frequencia)\n",
    "resultado"
   ]
  },
  {
   "cell_type": "code",
   "execution_count": 31,
   "metadata": {},
   "outputs": [
    {
     "data": {
      "text/plain": [
       "array(['buildingHasAirConditioning', 'buildingHasGarage', 'isRentable',\n",
       "       'kitchenServiceAreaViewIsBlocked', 'livingRoomViewIsBlocked',\n",
       "       'mainBedroomViewIsBlocked', 'otherBedroomsViewsAreBlocked',\n",
       "       'unitHasServiceBathroom', 'unitHasServiceBedroom'], dtype=object)"
      ]
     },
     "execution_count": 31,
     "metadata": {},
     "output_type": "execute_result"
    }
   ],
   "source": [
    "resultado[resultado['Frequencia Relativa'] == 100.00]['Coluna'].unique()"
   ]
  },
  {
   "cell_type": "code",
   "execution_count": 32,
   "metadata": {},
   "outputs": [
    {
     "data": {
      "text/html": [
       "<div>\n",
       "<style scoped>\n",
       "    .dataframe tbody tr th:only-of-type {\n",
       "        vertical-align: middle;\n",
       "    }\n",
       "\n",
       "    .dataframe tbody tr th {\n",
       "        vertical-align: top;\n",
       "    }\n",
       "\n",
       "    .dataframe thead th {\n",
       "        text-align: right;\n",
       "    }\n",
       "</style>\n",
       "<table border=\"1\" class=\"dataframe\">\n",
       "  <thead>\n",
       "    <tr style=\"text-align: right;\">\n",
       "      <th></th>\n",
       "      <th>Frequencia</th>\n",
       "      <th>Frequencia Relativa</th>\n",
       "      <th>Coluna</th>\n",
       "    </tr>\n",
       "  </thead>\n",
       "  <tbody>\n",
       "    <tr>\n",
       "      <th>True</th>\n",
       "      <td>7518</td>\n",
       "      <td>95.44</td>\n",
       "      <td>isMarketplace</td>\n",
       "    </tr>\n",
       "    <tr>\n",
       "      <th>False</th>\n",
       "      <td>359</td>\n",
       "      <td>4.56</td>\n",
       "      <td>isMarketplace</td>\n",
       "    </tr>\n",
       "    <tr>\n",
       "      <th>True</th>\n",
       "      <td>4762</td>\n",
       "      <td>60.45</td>\n",
       "      <td>towerHasElevator</td>\n",
       "    </tr>\n",
       "    <tr>\n",
       "      <th>False</th>\n",
       "      <td>3115</td>\n",
       "      <td>39.55</td>\n",
       "      <td>towerHasElevator</td>\n",
       "    </tr>\n",
       "  </tbody>\n",
       "</table>\n",
       "</div>"
      ],
      "text/plain": [
       "       Frequencia  Frequencia Relativa            Coluna\n",
       "True         7518                95.44     isMarketplace\n",
       "False         359                 4.56     isMarketplace\n",
       "True         4762                60.45  towerHasElevator\n",
       "False        3115                39.55  towerHasElevator"
      ]
     },
     "execution_count": 32,
     "metadata": {},
     "output_type": "execute_result"
    }
   ],
   "source": [
    "resultado[resultado['Frequencia Relativa'] != 100.00]"
   ]
  },
  {
   "cell_type": "markdown",
   "metadata": {},
   "source": [
    "<p style='font-size: 18px; line-height: 2; margin: 10px 50px; text-align: justify;'>\n",
    "Podemos perceber que apenas as colunas isMarketplace e towerHasElevator não possuem 100% das amostras com apenas um único valor, sendo foram removida as colunas com dados 100% de valores iguais, aplicando principio da Navalha e Occam.</p>"
   ]
  },
  {
   "cell_type": "markdown",
   "metadata": {},
   "source": [
    " ## Removendo as colunas do tipo bool com 100% das amostras com apenas um valor único"
   ]
  },
  {
   "cell_type": "code",
   "execution_count": 33,
   "metadata": {},
   "outputs": [],
   "source": [
    "imoveis.drop(columns=resultado[resultado['Frequencia Relativa'] == 100.00]['Coluna'].unique(), inplace=True)"
   ]
  },
  {
   "cell_type": "markdown",
   "metadata": {},
   "source": [
    "## Convertendo as colunas isMarketplace e towerHasElevator para um valor binario (0 ou 1)"
   ]
  },
  {
   "cell_type": "code",
   "execution_count": 34,
   "metadata": {},
   "outputs": [],
   "source": [
    "lb = LabelBinarizer()\n",
    "for column_name in ['isMarketplace', 'towerHasElevator']:\n",
    "    imoveis[column_name] = lb.fit_transform(imoveis[column_name])"
   ]
  },
  {
   "cell_type": "markdown",
   "metadata": {},
   "source": [
    "## Verificando as colunas que são do tipo object"
   ]
  },
  {
   "cell_type": "code",
   "execution_count": 35,
   "metadata": {},
   "outputs": [
    {
     "data": {
      "text/plain": [
       "Index(['contractType', 'currentPhase', 'id', 'image', 'image_thumbnail',\n",
       "       'productType', 'status', 'lat', 'lng', 'city', 'type', 'streetName',\n",
       "       'streetType', 'neighborhood'],\n",
       "      dtype='object')"
      ]
     },
     "execution_count": 35,
     "metadata": {},
     "output_type": "execute_result"
    }
   ],
   "source": [
    "imoveis.dtypes[imoveis.dtypes == object].index"
   ]
  },
  {
   "cell_type": "markdown",
   "metadata": {},
   "source": [
    "## Verificando a quantidade de valores unicos das colunas que são do tipo object"
   ]
  },
  {
   "cell_type": "code",
   "execution_count": 36,
   "metadata": {},
   "outputs": [
    {
     "data": {
      "text/html": [
       "<div>\n",
       "<style scoped>\n",
       "    .dataframe tbody tr th:only-of-type {\n",
       "        vertical-align: middle;\n",
       "    }\n",
       "\n",
       "    .dataframe tbody tr th {\n",
       "        vertical-align: top;\n",
       "    }\n",
       "\n",
       "    .dataframe thead th {\n",
       "        text-align: right;\n",
       "    }\n",
       "</style>\n",
       "<table border=\"1\" class=\"dataframe\">\n",
       "  <thead>\n",
       "    <tr style=\"text-align: right;\">\n",
       "      <th></th>\n",
       "      <th>quantidade_unico</th>\n",
       "    </tr>\n",
       "  </thead>\n",
       "  <tbody>\n",
       "    <tr>\n",
       "      <th>image</th>\n",
       "      <td>1</td>\n",
       "    </tr>\n",
       "    <tr>\n",
       "      <th>image_thumbnail</th>\n",
       "      <td>1</td>\n",
       "    </tr>\n",
       "    <tr>\n",
       "      <th>city</th>\n",
       "      <td>1</td>\n",
       "    </tr>\n",
       "    <tr>\n",
       "      <th>type</th>\n",
       "      <td>1</td>\n",
       "    </tr>\n",
       "    <tr>\n",
       "      <th>contractType</th>\n",
       "      <td>2</td>\n",
       "    </tr>\n",
       "    <tr>\n",
       "      <th>productType</th>\n",
       "      <td>4</td>\n",
       "    </tr>\n",
       "    <tr>\n",
       "      <th>status</th>\n",
       "      <td>4</td>\n",
       "    </tr>\n",
       "    <tr>\n",
       "      <th>currentPhase</th>\n",
       "      <td>6</td>\n",
       "    </tr>\n",
       "    <tr>\n",
       "      <th>streetType</th>\n",
       "      <td>22</td>\n",
       "    </tr>\n",
       "    <tr>\n",
       "      <th>neighborhood</th>\n",
       "      <td>100</td>\n",
       "    </tr>\n",
       "    <tr>\n",
       "      <th>streetName</th>\n",
       "      <td>2572</td>\n",
       "    </tr>\n",
       "    <tr>\n",
       "      <th>lng</th>\n",
       "      <td>5572</td>\n",
       "    </tr>\n",
       "    <tr>\n",
       "      <th>lat</th>\n",
       "      <td>5574</td>\n",
       "    </tr>\n",
       "    <tr>\n",
       "      <th>id</th>\n",
       "      <td>7877</td>\n",
       "    </tr>\n",
       "  </tbody>\n",
       "</table>\n",
       "</div>"
      ],
      "text/plain": [
       "                 quantidade_unico\n",
       "image                           1\n",
       "image_thumbnail                 1\n",
       "city                            1\n",
       "type                            1\n",
       "contractType                    2\n",
       "productType                     4\n",
       "status                          4\n",
       "currentPhase                    6\n",
       "streetType                     22\n",
       "neighborhood                  100\n",
       "streetName                   2572\n",
       "lng                          5572\n",
       "lat                          5574\n",
       "id                           7877"
      ]
     },
     "execution_count": 36,
     "metadata": {},
     "output_type": "execute_result"
    }
   ],
   "source": [
    "unicos = pd.DataFrame(imoveis[imoveis.dtypes[imoveis.dtypes == object].index].nunique().sort_values())\n",
    "unicos.rename(columns={0: 'quantidade_unico'}, inplace=True)\n",
    "unicos"
   ]
  },
  {
   "cell_type": "markdown",
   "metadata": {},
   "source": [
    "<p style='font-size: 18px; line-height: 2; margin: 10px 50px; text-align: justify;'>\n",
    "Percebemos que existem colunas que não são relevantes para o resultado tais como id que possui um valor único por linha e image e image_thumbnail que para esse tipo de análise não agrega valor.</p>"
   ]
  },
  {
   "cell_type": "markdown",
   "metadata": {},
   "source": [
    "## Removendo as colunas do tipo object que não tem relevância para resultado"
   ]
  },
  {
   "cell_type": "code",
   "execution_count": 37,
   "metadata": {},
   "outputs": [],
   "source": [
    "imoveis.drop(columns=['id', 'image', 'image_thumbnail'], inplace=True)"
   ]
  },
  {
   "cell_type": "markdown",
   "metadata": {},
   "source": [
    "## Verificando os valores únicos das colunas do tipo object"
   ]
  },
  {
   "cell_type": "code",
   "execution_count": 38,
   "metadata": {},
   "outputs": [
    {
     "name": "stdout",
     "output_type": "stream",
     "text": [
      "Valores unicos para coluna: city\n",
      "['São Paulo']\n",
      "\n",
      "\n",
      "Valores unicos para coluna: type\n",
      "['apartment']\n",
      "\n",
      "\n",
      "Valores unicos para coluna: contractType\n",
      "['exclusive' 'non_exclusive']\n",
      "\n",
      "\n",
      "Valores unicos para coluna: productType\n",
      "['market' 'select' 'home_flipping' 'new_construction']\n",
      "\n",
      "\n",
      "Valores unicos para coluna: status\n",
      "['FOR_SALE' 'SOLD' 'DEMOLITION' 'JUST_LISTED']\n",
      "\n",
      "\n",
      "Valores unicos para coluna: streetType\n",
      "['Avenida' 'Rua' 'Alameda' 'Praça' 'Rua da' 'Alameda dos' 'Rua das'\n",
      " 'Rua Doutor' 'Rodovia' 'Travessa' 'Avenida Doutor' 'Estrada' 'Rua do'\n",
      " 'Rua Professor' 'Avenida Professor' 'Rua dos' 'Viaduto' 'Avenida do'\n",
      " 'Largo' 'Parque' 'Via' 'Avenida dos']\n",
      "\n",
      "\n",
      "Valores unicos para coluna: neighborhood\n",
      "['Moema Pássaros' 'Perdizes' 'Campo Belo' 'Tatuapé' 'Bela Vista'\n",
      " 'Vila Madalena' 'Vila Sônia' 'Jardim Paulista' 'Saúde' 'Vila Romana'\n",
      " 'São Lucas' 'Itaim Bibi' 'Sumaré' 'Moema Índios' 'Vila Olímpia'\n",
      " 'Vila Leopoldina' 'Santa Cecília' 'Higienópolis' 'Vila Andrade' 'Paraíso'\n",
      " 'Bom Retiro' 'Pinheiros' 'Aclimação' 'Jardim América' 'Vila Clementino'\n",
      " 'República' 'Vila Nova Conceição' 'Mandaqui' 'Alto Da Lapa'\n",
      " 'Cachoeirinha' 'Brooklin' 'Jabaquara' 'Cambuci' 'Campo Grande'\n",
      " 'Alto De Pinheiros' 'Santo Amaro' 'Sacomã' 'Santana' 'Campo Limpo'\n",
      " 'São Domingos' 'Vila Mariana' 'Lapa' 'Vila Guilherme' 'Cursino'\n",
      " 'Cidade Ademar' 'Ipiranga' 'Chacara Klabin' 'Morumbi' 'Brás' 'Água Rasa'\n",
      " 'Barra Funda' 'Tucuruvi' 'Vila Prudente' 'Pirituba' 'Jaguara' 'Limão'\n",
      " 'Vila Medeiros' 'Mooca' 'Vila Formosa' 'Vila Maria' 'Raposo Tavares'\n",
      " 'Carrão' 'Casa Verde' 'Jaguaré' 'Penha' 'Liberdade' 'Rio Pequeno'\n",
      " 'Jaçanã' 'Freguesia do Ó' 'Aricanduva' 'Butantã' 'Belém' 'Capão Redondo'\n",
      " 'Vila Matilde' 'Pari' 'Tremembé' 'São Mateus' 'Cangaíba'\n",
      " 'Jardim São Luís' 'Itaim Nobre' 'Pedreira' 'Ermelino Matarazzo'\n",
      " 'Ponte Rasa' 'Sé' 'Cidade Líder' 'Brasilândia' 'Socorro' 'Jardim Europa'\n",
      " 'José Bonifácio' 'Parque do Carmo' 'Cidade Dutra' 'Jardim Paulistano'\n",
      " 'São Miguel' 'Artur Alvim' 'Jardim Ângela' 'Jaraguá' 'Guaianases'\n",
      " 'Vila Primavera' 'Jardim Helena' 'Vila Jacuí']\n",
      "\n",
      "\n"
     ]
    }
   ],
   "source": [
    "for column_name in ['city', 'type', 'contractType', 'productType', 'status', 'streetType', 'neighborhood']:\n",
    "    print(f'Valores unicos para coluna: {column_name}')\n",
    "    print(f'{imoveis[column_name].unique()}\\n\\n')"
   ]
  },
  {
   "cell_type": "markdown",
   "metadata": {},
   "source": [
    "<p style='font-size: 18px; line-height: 2; margin: 10px 50px; text-align: justify;'>\n",
    "Como esperado na coluna city apenas existem a cidade de São Paulo e na coluna type apenas apartment (Apartamento). Sendo assim podemos remover.</p>\n",
    "<p style='font-size: 18px; line-height: 2; margin: 10px 50px; text-align: justify;'>\n",
    "Ao analisar os valores unicos da coluna streetType percebemos que precisamos trata-los.</p>"
   ]
  },
  {
   "cell_type": "markdown",
   "metadata": {},
   "source": [
    "## Removendo as colunas city e type"
   ]
  },
  {
   "cell_type": "code",
   "execution_count": 39,
   "metadata": {},
   "outputs": [],
   "source": [
    "imoveis.drop(columns=['city', 'type'], inplace=True)"
   ]
  },
  {
   "cell_type": "markdown",
   "metadata": {},
   "source": [
    "## Ajustando os valores da coluna streetType"
   ]
  },
  {
   "cell_type": "code",
   "execution_count": 40,
   "metadata": {},
   "outputs": [
    {
     "data": {
      "text/plain": [
       "array(['Avenida', 'Rua', 'Alameda', 'Praça', 'Rodovia', 'Travessa',\n",
       "       'Estrada', 'Viaduto', 'Largo', 'Parque', 'Via'], dtype=object)"
      ]
     },
     "execution_count": 40,
     "metadata": {},
     "output_type": "execute_result"
    }
   ],
   "source": [
    "map_streetType= { 'Rua da': 'Rua',\n",
    "                  'Alameda dos': 'Alameda',\n",
    "                  'Rua das': 'Rua',\n",
    "                  'Rua Doutor': 'Rua',\n",
    "                  'Avenida Doutor': 'Avenida',\n",
    "                  'Rua do': 'Rua',\n",
    "                  'Rua Professor': 'Rua',\n",
    "                  'Avenida Professor': 'Avenida',\n",
    "                  'Rua dos': 'Rua',\n",
    "                  'Avenida do': 'Avenida',\n",
    "                  'Avenida dos': 'Avenida'\n",
    "                  }\n",
    "\n",
    "imoveis.streetType.replace(map_streetType, inplace=True),\n",
    "imoveis.streetType.unique()"
   ]
  },
  {
   "cell_type": "markdown",
   "metadata": {},
   "source": [
    "## Convertendo as colunas lat e lng para o tipo numérico"
   ]
  },
  {
   "cell_type": "code",
   "execution_count": 41,
   "metadata": {},
   "outputs": [],
   "source": [
    "imoveis['lat'] = pd.to_numeric(imoveis['lat'])\n",
    "imoveis['lng'] = pd.to_numeric(imoveis['lng'])"
   ]
  },
  {
   "cell_type": "markdown",
   "metadata": {},
   "source": [
    "## Verificando as colunas que são do tipos int64 e float64"
   ]
  },
  {
   "cell_type": "code",
   "execution_count": 42,
   "metadata": {},
   "outputs": [
    {
     "data": {
      "text/plain": [
       "Index(['area', 'bedrooms', 'floor', 'parkingSpots', 'price',\n",
       "       'subwayShortestDistance', 'suits', 'unitId', 'lat', 'lng'],\n",
       "      dtype='object')"
      ]
     },
     "execution_count": 42,
     "metadata": {},
     "output_type": "execute_result"
    }
   ],
   "source": [
    "imoveis.dtypes[(imoveis.dtypes == 'int64') | (imoveis.dtypes == 'float64')].index"
   ]
  },
  {
   "cell_type": "markdown",
   "metadata": {},
   "source": [
    "## Removendo a coluna unitId pois a mesma representa o id da unidade, não sendo esse relevante para o problema"
   ]
  },
  {
   "cell_type": "code",
   "execution_count": 43,
   "metadata": {},
   "outputs": [],
   "source": [
    "imoveis.drop(columns=['unitId'], inplace=True)"
   ]
  },
  {
   "cell_type": "markdown",
   "metadata": {},
   "source": [
    "## Verificando valores negativos nas colunas que são do tipos int64 e float64"
   ]
  },
  {
   "cell_type": "code",
   "execution_count": 44,
   "metadata": {},
   "outputs": [
    {
     "data": {
      "text/html": [
       "<div>\n",
       "<style scoped>\n",
       "    .dataframe tbody tr th:only-of-type {\n",
       "        vertical-align: middle;\n",
       "    }\n",
       "\n",
       "    .dataframe tbody tr th {\n",
       "        vertical-align: top;\n",
       "    }\n",
       "\n",
       "    .dataframe thead th {\n",
       "        text-align: right;\n",
       "    }\n",
       "</style>\n",
       "<table border=\"1\" class=\"dataframe\">\n",
       "  <thead>\n",
       "    <tr style=\"text-align: right;\">\n",
       "      <th></th>\n",
       "      <th>quantidade</th>\n",
       "    </tr>\n",
       "  </thead>\n",
       "  <tbody>\n",
       "    <tr>\n",
       "      <th>area</th>\n",
       "      <td>0</td>\n",
       "    </tr>\n",
       "    <tr>\n",
       "      <th>bedrooms</th>\n",
       "      <td>0</td>\n",
       "    </tr>\n",
       "    <tr>\n",
       "      <th>floor</th>\n",
       "      <td>0</td>\n",
       "    </tr>\n",
       "    <tr>\n",
       "      <th>parkingSpots</th>\n",
       "      <td>0</td>\n",
       "    </tr>\n",
       "    <tr>\n",
       "      <th>price</th>\n",
       "      <td>0</td>\n",
       "    </tr>\n",
       "    <tr>\n",
       "      <th>subwayShortestDistance</th>\n",
       "      <td>0</td>\n",
       "    </tr>\n",
       "    <tr>\n",
       "      <th>suits</th>\n",
       "      <td>0</td>\n",
       "    </tr>\n",
       "    <tr>\n",
       "      <th>lat</th>\n",
       "      <td>7877</td>\n",
       "    </tr>\n",
       "    <tr>\n",
       "      <th>lng</th>\n",
       "      <td>7877</td>\n",
       "    </tr>\n",
       "  </tbody>\n",
       "</table>\n",
       "</div>"
      ],
      "text/plain": [
       "                        quantidade\n",
       "area                             0\n",
       "bedrooms                         0\n",
       "floor                            0\n",
       "parkingSpots                     0\n",
       "price                            0\n",
       "subwayShortestDistance           0\n",
       "suits                            0\n",
       "lat                           7877\n",
       "lng                           7877"
      ]
     },
     "execution_count": 44,
     "metadata": {},
     "output_type": "execute_result"
    }
   ],
   "source": [
    "colunas = []\n",
    "valores = []\n",
    "for column_name in imoveis.dtypes[(imoveis.dtypes == 'int64') | (imoveis.dtypes == 'float64')].index:\n",
    "    colunas.append(column_name)\n",
    "    valores.append(imoveis[column_name][imoveis[column_name] < 0].shape[0])\n",
    "\n",
    "pd.DataFrame(valores, index=colunas, columns=['quantidade'])"
   ]
  },
  {
   "cell_type": "markdown",
   "metadata": {},
   "source": [
    "<p style='font-size: 18px; line-height: 2; margin: 10px 50px; text-align: justify;'>\n",
    "Verificamos com sucesso que apena existem valores negativos para lat e lng e esse comportamento já era esperado.</p>"
   ]
  },
  {
   "cell_type": "markdown",
   "metadata": {},
   "source": [
    "## Verificando valores zerados"
   ]
  },
  {
   "cell_type": "code",
   "execution_count": 45,
   "metadata": {},
   "outputs": [
    {
     "data": {
      "text/html": [
       "<div>\n",
       "<style scoped>\n",
       "    .dataframe tbody tr th:only-of-type {\n",
       "        vertical-align: middle;\n",
       "    }\n",
       "\n",
       "    .dataframe tbody tr th {\n",
       "        vertical-align: top;\n",
       "    }\n",
       "\n",
       "    .dataframe thead th {\n",
       "        text-align: right;\n",
       "    }\n",
       "</style>\n",
       "<table border=\"1\" class=\"dataframe\">\n",
       "  <thead>\n",
       "    <tr style=\"text-align: right;\">\n",
       "      <th></th>\n",
       "      <th>quantidade</th>\n",
       "    </tr>\n",
       "  </thead>\n",
       "  <tbody>\n",
       "    <tr>\n",
       "      <th>area</th>\n",
       "      <td>0</td>\n",
       "    </tr>\n",
       "    <tr>\n",
       "      <th>bedrooms</th>\n",
       "      <td>193</td>\n",
       "    </tr>\n",
       "    <tr>\n",
       "      <th>floor</th>\n",
       "      <td>132</td>\n",
       "    </tr>\n",
       "    <tr>\n",
       "      <th>parkingSpots</th>\n",
       "      <td>724</td>\n",
       "    </tr>\n",
       "    <tr>\n",
       "      <th>price</th>\n",
       "      <td>0</td>\n",
       "    </tr>\n",
       "    <tr>\n",
       "      <th>subwayShortestDistance</th>\n",
       "      <td>0</td>\n",
       "    </tr>\n",
       "    <tr>\n",
       "      <th>suits</th>\n",
       "      <td>3065</td>\n",
       "    </tr>\n",
       "    <tr>\n",
       "      <th>lat</th>\n",
       "      <td>0</td>\n",
       "    </tr>\n",
       "    <tr>\n",
       "      <th>lng</th>\n",
       "      <td>0</td>\n",
       "    </tr>\n",
       "  </tbody>\n",
       "</table>\n",
       "</div>"
      ],
      "text/plain": [
       "                        quantidade\n",
       "area                             0\n",
       "bedrooms                       193\n",
       "floor                          132\n",
       "parkingSpots                   724\n",
       "price                            0\n",
       "subwayShortestDistance           0\n",
       "suits                         3065\n",
       "lat                              0\n",
       "lng                              0"
      ]
     },
     "execution_count": 45,
     "metadata": {},
     "output_type": "execute_result"
    }
   ],
   "source": [
    "colunas = []\n",
    "valores = []\n",
    "for column_name in imoveis.dtypes[(imoveis.dtypes == 'int64') | (imoveis.dtypes == 'float64')].index:\n",
    "    colunas.append(column_name)\n",
    "    valores.append(imoveis[column_name][imoveis[column_name] == 0].shape[0])\n",
    "\n",
    "pd.DataFrame(valores, index=colunas, columns=['quantidade'])"
   ]
  },
  {
   "cell_type": "markdown",
   "metadata": {},
   "source": [
    "<p style='font-size: 18px; line-height: 2; margin: 10px 50px; text-align: justify;'>\n",
    "No primeiro momento pensamos nossa apartamento sem quartos? Calma lembre que existem apartamentos do tipo studio.</p>"
   ]
  },
  {
   "cell_type": "markdown",
   "metadata": {},
   "source": [
    "## Verificando a quantidade de valors unicos das colunas que são dos tipos int64 e float64"
   ]
  },
  {
   "cell_type": "code",
   "execution_count": 46,
   "metadata": {},
   "outputs": [
    {
     "data": {
      "text/html": [
       "<div>\n",
       "<style scoped>\n",
       "    .dataframe tbody tr th:only-of-type {\n",
       "        vertical-align: middle;\n",
       "    }\n",
       "\n",
       "    .dataframe tbody tr th {\n",
       "        vertical-align: top;\n",
       "    }\n",
       "\n",
       "    .dataframe thead th {\n",
       "        text-align: right;\n",
       "    }\n",
       "</style>\n",
       "<table border=\"1\" class=\"dataframe\">\n",
       "  <thead>\n",
       "    <tr style=\"text-align: right;\">\n",
       "      <th></th>\n",
       "      <th>quantidade_valores_unicos</th>\n",
       "    </tr>\n",
       "  </thead>\n",
       "  <tbody>\n",
       "    <tr>\n",
       "      <th>suits</th>\n",
       "      <td>7</td>\n",
       "    </tr>\n",
       "    <tr>\n",
       "      <th>bedrooms</th>\n",
       "      <td>8</td>\n",
       "    </tr>\n",
       "    <tr>\n",
       "      <th>parkingSpots</th>\n",
       "      <td>9</td>\n",
       "    </tr>\n",
       "    <tr>\n",
       "      <th>floor</th>\n",
       "      <td>46</td>\n",
       "    </tr>\n",
       "    <tr>\n",
       "      <th>area</th>\n",
       "      <td>390</td>\n",
       "    </tr>\n",
       "    <tr>\n",
       "      <th>price</th>\n",
       "      <td>1053</td>\n",
       "    </tr>\n",
       "    <tr>\n",
       "      <th>subwayShortestDistance</th>\n",
       "      <td>5565</td>\n",
       "    </tr>\n",
       "    <tr>\n",
       "      <th>lng</th>\n",
       "      <td>5572</td>\n",
       "    </tr>\n",
       "    <tr>\n",
       "      <th>lat</th>\n",
       "      <td>5574</td>\n",
       "    </tr>\n",
       "  </tbody>\n",
       "</table>\n",
       "</div>"
      ],
      "text/plain": [
       "                        quantidade_valores_unicos\n",
       "suits                                           7\n",
       "bedrooms                                        8\n",
       "parkingSpots                                    9\n",
       "floor                                          46\n",
       "area                                          390\n",
       "price                                        1053\n",
       "subwayShortestDistance                       5565\n",
       "lng                                          5572\n",
       "lat                                          5574"
      ]
     },
     "execution_count": 46,
     "metadata": {},
     "output_type": "execute_result"
    }
   ],
   "source": [
    "pd.DataFrame(imoveis[imoveis.dtypes[(imoveis.dtypes == 'int64') | (imoveis.dtypes == 'float64')].index].nunique().sort_values()).rename(columns={0: 'quantidade_valores_unicos'})"
   ]
  },
  {
   "cell_type": "markdown",
   "metadata": {},
   "source": [
    "## Estatísticas descritivas"
   ]
  },
  {
   "cell_type": "code",
   "execution_count": 47,
   "metadata": {},
   "outputs": [
    {
     "data": {
      "text/html": [
       "<div>\n",
       "<style scoped>\n",
       "    .dataframe tbody tr th:only-of-type {\n",
       "        vertical-align: middle;\n",
       "    }\n",
       "\n",
       "    .dataframe tbody tr th {\n",
       "        vertical-align: top;\n",
       "    }\n",
       "\n",
       "    .dataframe thead th {\n",
       "        text-align: right;\n",
       "    }\n",
       "</style>\n",
       "<table border=\"1\" class=\"dataframe\">\n",
       "  <thead>\n",
       "    <tr style=\"text-align: right;\">\n",
       "      <th></th>\n",
       "      <th>area</th>\n",
       "      <th>bedrooms</th>\n",
       "      <th>floor</th>\n",
       "      <th>isMarketplace</th>\n",
       "      <th>parkingSpots</th>\n",
       "      <th>price</th>\n",
       "      <th>subwayShortestDistance</th>\n",
       "      <th>suits</th>\n",
       "      <th>towerHasElevator</th>\n",
       "      <th>lat</th>\n",
       "      <th>lng</th>\n",
       "    </tr>\n",
       "  </thead>\n",
       "  <tbody>\n",
       "    <tr>\n",
       "      <th>count</th>\n",
       "      <td>7877.00</td>\n",
       "      <td>7877.00</td>\n",
       "      <td>7877.00</td>\n",
       "      <td>7877.00</td>\n",
       "      <td>7877.00</td>\n",
       "      <td>7877.00</td>\n",
       "      <td>7877.00</td>\n",
       "      <td>7877.00</td>\n",
       "      <td>7877.00</td>\n",
       "      <td>7877.00</td>\n",
       "      <td>7877.00</td>\n",
       "    </tr>\n",
       "    <tr>\n",
       "      <th>mean</th>\n",
       "      <td>102.14</td>\n",
       "      <td>2.41</td>\n",
       "      <td>7.51</td>\n",
       "      <td>0.95</td>\n",
       "      <td>1.55</td>\n",
       "      <td>886722.94</td>\n",
       "      <td>1617.22</td>\n",
       "      <td>0.92</td>\n",
       "      <td>0.60</td>\n",
       "      <td>-23.57</td>\n",
       "      <td>-46.66</td>\n",
       "    </tr>\n",
       "    <tr>\n",
       "      <th>std</th>\n",
       "      <td>72.00</td>\n",
       "      <td>0.89</td>\n",
       "      <td>8.59</td>\n",
       "      <td>0.21</td>\n",
       "      <td>1.03</td>\n",
       "      <td>835495.26</td>\n",
       "      <td>1395.66</td>\n",
       "      <td>1.01</td>\n",
       "      <td>0.49</td>\n",
       "      <td>0.05</td>\n",
       "      <td>0.05</td>\n",
       "    </tr>\n",
       "    <tr>\n",
       "      <th>min</th>\n",
       "      <td>6.00</td>\n",
       "      <td>0.00</td>\n",
       "      <td>0.00</td>\n",
       "      <td>0.00</td>\n",
       "      <td>0.00</td>\n",
       "      <td>130000.00</td>\n",
       "      <td>46.76</td>\n",
       "      <td>0.00</td>\n",
       "      <td>0.00</td>\n",
       "      <td>-23.74</td>\n",
       "      <td>-46.81</td>\n",
       "    </tr>\n",
       "    <tr>\n",
       "      <th>25%</th>\n",
       "      <td>59.00</td>\n",
       "      <td>2.00</td>\n",
       "      <td>3.00</td>\n",
       "      <td>1.00</td>\n",
       "      <td>1.00</td>\n",
       "      <td>400000.00</td>\n",
       "      <td>596.72</td>\n",
       "      <td>0.00</td>\n",
       "      <td>0.00</td>\n",
       "      <td>-23.61</td>\n",
       "      <td>-46.69</td>\n",
       "    </tr>\n",
       "    <tr>\n",
       "      <th>50%</th>\n",
       "      <td>79.00</td>\n",
       "      <td>2.00</td>\n",
       "      <td>6.00</td>\n",
       "      <td>1.00</td>\n",
       "      <td>1.00</td>\n",
       "      <td>642000.00</td>\n",
       "      <td>1229.99</td>\n",
       "      <td>1.00</td>\n",
       "      <td>1.00</td>\n",
       "      <td>-23.57</td>\n",
       "      <td>-46.66</td>\n",
       "    </tr>\n",
       "    <tr>\n",
       "      <th>75%</th>\n",
       "      <td>121.00</td>\n",
       "      <td>3.00</td>\n",
       "      <td>10.00</td>\n",
       "      <td>1.00</td>\n",
       "      <td>2.00</td>\n",
       "      <td>1070000.00</td>\n",
       "      <td>2245.46</td>\n",
       "      <td>1.00</td>\n",
       "      <td>1.00</td>\n",
       "      <td>-23.54</td>\n",
       "      <td>-46.63</td>\n",
       "    </tr>\n",
       "    <tr>\n",
       "      <th>max</th>\n",
       "      <td>983.00</td>\n",
       "      <td>7.00</td>\n",
       "      <td>504.00</td>\n",
       "      <td>1.00</td>\n",
       "      <td>8.00</td>\n",
       "      <td>16000000.00</td>\n",
       "      <td>11263.30</td>\n",
       "      <td>6.00</td>\n",
       "      <td>1.00</td>\n",
       "      <td>-23.42</td>\n",
       "      <td>-46.42</td>\n",
       "    </tr>\n",
       "  </tbody>\n",
       "</table>\n",
       "</div>"
      ],
      "text/plain": [
       "          area  bedrooms    floor  isMarketplace  parkingSpots        price  \\\n",
       "count  7877.00   7877.00  7877.00        7877.00       7877.00      7877.00   \n",
       "mean    102.14      2.41     7.51           0.95          1.55    886722.94   \n",
       "std      72.00      0.89     8.59           0.21          1.03    835495.26   \n",
       "min       6.00      0.00     0.00           0.00          0.00    130000.00   \n",
       "25%      59.00      2.00     3.00           1.00          1.00    400000.00   \n",
       "50%      79.00      2.00     6.00           1.00          1.00    642000.00   \n",
       "75%     121.00      3.00    10.00           1.00          2.00   1070000.00   \n",
       "max     983.00      7.00   504.00           1.00          8.00  16000000.00   \n",
       "\n",
       "       subwayShortestDistance    suits  towerHasElevator      lat      lng  \n",
       "count                 7877.00  7877.00           7877.00  7877.00  7877.00  \n",
       "mean                  1617.22     0.92              0.60   -23.57   -46.66  \n",
       "std                   1395.66     1.01              0.49     0.05     0.05  \n",
       "min                     46.76     0.00              0.00   -23.74   -46.81  \n",
       "25%                    596.72     0.00              0.00   -23.61   -46.69  \n",
       "50%                   1229.99     1.00              1.00   -23.57   -46.66  \n",
       "75%                   2245.46     1.00              1.00   -23.54   -46.63  \n",
       "max                  11263.30     6.00              1.00   -23.42   -46.42  "
      ]
     },
     "execution_count": 47,
     "metadata": {},
     "output_type": "execute_result"
    }
   ],
   "source": [
    "imoveis.describe().round(2)"
   ]
  },
  {
   "cell_type": "markdown",
   "metadata": {},
   "source": [
    "<p style='font-size: 18px; line-height: 2; margin: 10px 50px; text-align: justify;'>\n",
    "Ao verificar rapidamente os dados podemos perceber que existe um inconsistência no valor máximo da coluna floor (andar).</p>"
   ]
  },
  {
   "cell_type": "markdown",
   "metadata": {},
   "source": [
    "## Verificando outliers na coluna floor"
   ]
  },
  {
   "cell_type": "code",
   "execution_count": 48,
   "metadata": {},
   "outputs": [
    {
     "data": {
      "text/plain": [
       "<matplotlib.axes._subplots.AxesSubplot at 0x2c98dbd5828>"
      ]
     },
     "execution_count": 48,
     "metadata": {},
     "output_type": "execute_result"
    },
    {
     "data": {
      "image/png": "[encoded data removed]",
      "text/plain": [
       "<Figure size 1800x432 with 1 Axes>"
      ]
     },
     "metadata": {
      "needs_background": "light"
     },
     "output_type": "display_data"
    }
   ],
   "source": [
    "ax = sns.boxplot(data=imoveis.floor, orient='h', width=0.4)\n",
    "ax.figure.set_size_inches(25, 6)\n",
    "ax.set_title('Boxplot', fontsize=20)\n",
    "ax.set_xlabel('floor', fontsize=16)\n",
    "ax"
   ]
  },
  {
   "cell_type": "markdown",
   "metadata": {},
   "source": [
    "<p style='font-size: 18px; line-height: 2; margin: 10px 50px; text-align: justify;'>Analisando o boxplot percemos que existem diveros outliers na coluna floor que devem ser tratados</p>"
   ]
  },
  {
   "cell_type": "markdown",
   "metadata": {},
   "source": [
    "## Verificando os limites internos e externos da coluna floor"
   ]
  },
  {
   "cell_type": "code",
   "execution_count": 49,
   "metadata": {},
   "outputs": [
    {
     "name": "stdout",
     "output_type": "stream",
     "text": [
      "Limites internos: -7.5 : 20.5\n",
      "Limites externos: -18.0 : 31.0\n"
     ]
    }
   ],
   "source": [
    "q1 = imoveis.floor.quantile(q=0.25)\n",
    "q3 = imoveis.floor.quantile(q=0.75)\n",
    "amp = q3 - q1\n",
    "lim_max_i = q3 + 1.5 * amp\n",
    "lim_min_i = q1 - 1.5 * amp\n",
    "lim_max_e = q3 + 3 * amp\n",
    "lim_min_e = q1 - 3 * amp\n",
    "print(f'Limites internos: {lim_min_i} : {lim_max_i}')\n",
    "print(f'Limites externos: {lim_min_e} : {lim_max_e}')"
   ]
  },
  {
   "cell_type": "markdown",
   "metadata": {},
   "source": [
    "<p style='font-size: 18px; line-height: 2; margin: 10px 50px; text-align: justify;'>Fazendo uma breve pesquisa (https://www.youtube.com/watch?v=418INXE3qRA) podemos perceber que existem imóveis na cidade de São Paulo com mais de 31 andares, sendo o maior com 52 andares. Logo vamos adotar que todos os imóveis com mais de 52 andares são outliers.</p>"
   ]
  },
  {
   "cell_type": "code",
   "execution_count": 50,
   "metadata": {},
   "outputs": [
    {
     "name": "stdout",
     "output_type": "stream",
     "text": [
      "Quantidade de imóveis com mais do que 52 andares: 11\n",
      "Isso representa 0.14% do dataset\n"
     ]
    }
   ],
   "source": [
    "print(f'Quantidade de imóveis com mais do que 52 andares: {imoveis[imoveis.floor > 52].shape[0]}')\n",
    "print(f'Isso representa {round(((imoveis[imoveis.floor > 52].shape[0] / imoveis.shape[0]) * 100), 2)}% do dataset')"
   ]
  },
  {
   "cell_type": "markdown",
   "metadata": {},
   "source": [
    "<p style='font-size: 18px; line-height: 2; margin: 10px 50px; text-align: justify;'>Percebemos que os outliers reprsetam menos de 1% da amostra, sendo assim vamos removê-los.</p>"
   ]
  },
  {
   "cell_type": "markdown",
   "metadata": {},
   "source": [
    "## Removendo os outliers da coluna floor"
   ]
  },
  {
   "cell_type": "code",
   "execution_count": 51,
   "metadata": {},
   "outputs": [],
   "source": [
    "imoveis.drop(imoveis[imoveis.floor > 51].index, inplace=True)"
   ]
  },
  {
   "cell_type": "markdown",
   "metadata": {},
   "source": [
    "## Verificando novamente o boxplot da coluna floor"
   ]
  },
  {
   "cell_type": "code",
   "execution_count": 52,
   "metadata": {},
   "outputs": [
    {
     "data": {
      "text/plain": [
       "<matplotlib.axes._subplots.AxesSubplot at 0x2c98dcf7cf8>"
      ]
     },
     "execution_count": 52,
     "metadata": {},
     "output_type": "execute_result"
    },
    {
     "data": {
      "image/png": "[encoded data removed]",
      "text/plain": [
       "<Figure size 864x432 with 1 Axes>"
      ]
     },
     "metadata": {
      "needs_background": "light"
     },
     "output_type": "display_data"
    }
   ],
   "source": [
    "ax = sns.boxplot(data=imoveis.floor, orient='h', width=0.4)\n",
    "ax.figure.set_size_inches(12, 6)\n",
    "ax.set_title('Boxplot', fontsize=20)\n",
    "ax.set_xlabel('floor', fontsize=16)\n",
    "ax"
   ]
  },
  {
   "cell_type": "markdown",
   "metadata": {},
   "source": [
    "## Removendo a coluna streetName, pois ela não é relevante para o problema"
   ]
  },
  {
   "cell_type": "code",
   "execution_count": 53,
   "metadata": {},
   "outputs": [],
   "source": [
    "imoveis.drop(columns=['streetName'], inplace=True)"
   ]
  },
  {
   "cell_type": "markdown",
   "metadata": {},
   "source": [
    "# Manipulando o Dataset de Latrocínio\n",
    "<hr style='border: 2px solid;'>"
   ]
  },
  {
   "cell_type": "markdown",
   "metadata": {},
   "source": [
    "## Verificando as colunas"
   ]
  },
  {
   "cell_type": "code",
   "execution_count": 54,
   "metadata": {},
   "outputs": [
    {
     "data": {
      "text/plain": [
       "Index(['ANO_BO', 'NUM_BO', 'NUMERO_BOLETIM', 'BO_INICIADO', 'BO_EMITIDO',\n",
       "       'DATAOCORRENCIA', 'HORAOCORRENCIA', 'PERIDOOCORRENCIA',\n",
       "       'DATACOMUNICACAO', 'DATAELABORACAO', 'BO_AUTORIA', 'FLAGRANTE',\n",
       "       'NUMERO_BOLETIM_PRINCIPAL', 'LOGRADOURO', 'NUMERO', 'BAIRRO', 'CIDADE',\n",
       "       'UF', 'LATITUDE', 'LONGITUDE', 'DESCRICAOLOCAL', 'EXAME', 'SOLUCAO',\n",
       "       'DELEGACIA_NOME', 'DELEGACIA_CIRCUNSCRICAO', 'ESPECIE', 'RUBRICA',\n",
       "       'DESDOBRAMENTO', 'STATUS', 'TIPOPESSOA', 'VITIMAFATAL', 'NATURALIDADE',\n",
       "       'NACIONALIDADE', 'SEXO', 'DATANASCIMENTO', 'IDADE', 'ESTADOCIVIL',\n",
       "       'PROFISSAO', 'GRAUINSTRUCAO', 'CORCUTIS', 'NATUREZAVINCULADA',\n",
       "       'TIPOVINCULO', 'RELACIONAMENTO', 'PARENTESCO', 'PLACA_VEICULO',\n",
       "       'UF_VEICULO', 'CIDADE_VEICULO', 'DESCR_COR_VEICULO',\n",
       "       'DESCR_MARCA_VEICULO', 'ANO_FABRICACAO', 'ANO_MODELO',\n",
       "       'DESCR_TIPO_VEICULO', 'QUANT_CELULAR', 'MARCA_CELULAR'],\n",
       "      dtype='object')"
      ]
     },
     "execution_count": 54,
     "metadata": {},
     "output_type": "execute_result"
    }
   ],
   "source": [
    "latrocinios.columns"
   ]
  },
  {
   "cell_type": "markdown",
   "metadata": {},
   "source": [
    "## Filtrando apenas as ocorrências na cidade de São Paulo"
   ]
  },
  {
   "cell_type": "code",
   "execution_count": 55,
   "metadata": {},
   "outputs": [
    {
     "data": {
      "text/plain": [
       "array(['S.PAULO', 'CAMPINAS', 'GUARULHOS', 'INDAIATUBA', 'CUBATAO',\n",
       "       'BAURU', 'CAJURU', 'JACAREI', 'PRAIA GRANDE', 'ITAQUAQUECETUBA',\n",
       "       'UBATUBA', 'S.ROQUE', 'PIRANGI', 'IBIUNA', 'RIO CLARO', 'MAUA',\n",
       "       'MOGI MIRIM', 'CARAGUATATUBA', 'IGARACU DO TIETE', 'BARIRI',\n",
       "       'CAMPO LIMPO PAULISTA', 'RIBEIRAO PRETO', 'SANTOS',\n",
       "       'FERNANDOPOLIS', 'DIADEMA', 'S.ANDRE', 'GUARUJA',\n",
       "       'S.BERNARDO DO CAMPO', 'S.VICENTE', 'BARAO DE ANTONINA',\n",
       "       'VOTUPORANGA', 'ITANHAEM', 'SUZANO', 'CERQUEIRA CESAR', 'JAU',\n",
       "       'S.JOSE DO RIO PRETO', 'BRODOWSKI', 'AVARE',\n",
       "       'ITAPECERICA DA SERRA', 'ITAPEVA', 'BARUERI', 'VINHEDO', 'LEME',\n",
       "       'TABOAO DA SERRA', 'CAJAMAR', 'AMERICANA', 'ARARAQUARA',\n",
       "       'S.FE DO SUL', 'ITAPIRA', 'S.CARLOS', 'TAUBATE', 'JUNDIAI',\n",
       "       'COTIA', 'PEDREIRA', 'ARARAS', 'RIBEIRAO BRANCO', 'OURINHOS',\n",
       "       'ATIBAIA', 'NAZARE PAULISTA', 'ITAPEVI', 'PENAPOLIS',\n",
       "       'GUARATINGUETA', 'SOROCABA', 'SERTAOZINHO', 'NOVA ODESSA',\n",
       "       'BIRITIBA-MIRIM', 'FRANCO DA ROCHA', 'MOGI GUACU', 'BASTOS',\n",
       "       'EMBU DAS ARTES', 'SOCORRO', 'SANTANA DE PARNAIBA'], dtype=object)"
      ]
     },
     "execution_count": 55,
     "metadata": {},
     "output_type": "execute_result"
    }
   ],
   "source": [
    "latrocinios.CIDADE.unique()"
   ]
  },
  {
   "cell_type": "code",
   "execution_count": 56,
   "metadata": {},
   "outputs": [],
   "source": [
    "latrocinios = latrocinios[latrocinios.CIDADE == 'S.PAULO']"
   ]
  },
  {
   "cell_type": "markdown",
   "metadata": {},
   "source": [
    "## Filtrando apenas os boletins que não são complementares"
   ]
  },
  {
   "cell_type": "code",
   "execution_count": 57,
   "metadata": {},
   "outputs": [],
   "source": [
    "latrocinios = latrocinios[latrocinios.NUMERO_BOLETIM_PRINCIPAL.isna()]"
   ]
  },
  {
   "cell_type": "markdown",
   "metadata": {},
   "source": [
    "## Removendo as linhas duplicadas"
   ]
  },
  {
   "cell_type": "code",
   "execution_count": 58,
   "metadata": {},
   "outputs": [],
   "source": [
    "latrocinios.drop_duplicates(subset=['NUM_BO'], inplace=True)"
   ]
  },
  {
   "cell_type": "markdown",
   "metadata": {},
   "source": [
    "## Montando um novo dataset com o número de boletins por bairro"
   ]
  },
  {
   "cell_type": "code",
   "execution_count": 59,
   "metadata": {},
   "outputs": [
    {
     "data": {
      "text/html": [
       "<div>\n",
       "<style scoped>\n",
       "    .dataframe tbody tr th:only-of-type {\n",
       "        vertical-align: middle;\n",
       "    }\n",
       "\n",
       "    .dataframe tbody tr th {\n",
       "        vertical-align: top;\n",
       "    }\n",
       "\n",
       "    .dataframe thead th {\n",
       "        text-align: right;\n",
       "    }\n",
       "</style>\n",
       "<table border=\"1\" class=\"dataframe\">\n",
       "  <thead>\n",
       "    <tr style=\"text-align: right;\">\n",
       "      <th></th>\n",
       "      <th>BAIRRO</th>\n",
       "      <th>TAX_NUM_BO</th>\n",
       "    </tr>\n",
       "  </thead>\n",
       "  <tbody>\n",
       "    <tr>\n",
       "      <th>0</th>\n",
       "      <td>Agua rasa</td>\n",
       "      <td>2.27</td>\n",
       "    </tr>\n",
       "    <tr>\n",
       "      <th>1</th>\n",
       "      <td>Alto de pinheiros</td>\n",
       "      <td>2.27</td>\n",
       "    </tr>\n",
       "    <tr>\n",
       "      <th>2</th>\n",
       "      <td>Butanta</td>\n",
       "      <td>4.55</td>\n",
       "    </tr>\n",
       "    <tr>\n",
       "      <th>3</th>\n",
       "      <td>Campo limpo</td>\n",
       "      <td>6.82</td>\n",
       "    </tr>\n",
       "    <tr>\n",
       "      <th>4</th>\n",
       "      <td>Capao redondo</td>\n",
       "      <td>9.09</td>\n",
       "    </tr>\n",
       "    <tr>\n",
       "      <th>5</th>\n",
       "      <td>Carrao</td>\n",
       "      <td>2.27</td>\n",
       "    </tr>\n",
       "    <tr>\n",
       "      <th>6</th>\n",
       "      <td>Cidade tiradentes</td>\n",
       "      <td>2.27</td>\n",
       "    </tr>\n",
       "    <tr>\n",
       "      <th>7</th>\n",
       "      <td>Consolacao</td>\n",
       "      <td>2.27</td>\n",
       "    </tr>\n",
       "    <tr>\n",
       "      <th>8</th>\n",
       "      <td>Freguesia do o</td>\n",
       "      <td>2.27</td>\n",
       "    </tr>\n",
       "    <tr>\n",
       "      <th>9</th>\n",
       "      <td>Iguatemi</td>\n",
       "      <td>2.27</td>\n",
       "    </tr>\n",
       "    <tr>\n",
       "      <th>10</th>\n",
       "      <td>Itaquera</td>\n",
       "      <td>2.27</td>\n",
       "    </tr>\n",
       "    <tr>\n",
       "      <th>11</th>\n",
       "      <td>Jardim angela</td>\n",
       "      <td>4.55</td>\n",
       "    </tr>\n",
       "    <tr>\n",
       "      <th>12</th>\n",
       "      <td>Jardim helena</td>\n",
       "      <td>2.27</td>\n",
       "    </tr>\n",
       "    <tr>\n",
       "      <th>13</th>\n",
       "      <td>Lajeado</td>\n",
       "      <td>2.27</td>\n",
       "    </tr>\n",
       "    <tr>\n",
       "      <th>14</th>\n",
       "      <td>Lapa</td>\n",
       "      <td>4.55</td>\n",
       "    </tr>\n",
       "    <tr>\n",
       "      <th>15</th>\n",
       "      <td>Moema</td>\n",
       "      <td>2.27</td>\n",
       "    </tr>\n",
       "    <tr>\n",
       "      <th>16</th>\n",
       "      <td>Pari</td>\n",
       "      <td>2.27</td>\n",
       "    </tr>\n",
       "    <tr>\n",
       "      <th>17</th>\n",
       "      <td>Penha</td>\n",
       "      <td>2.27</td>\n",
       "    </tr>\n",
       "    <tr>\n",
       "      <th>18</th>\n",
       "      <td>Perus</td>\n",
       "      <td>4.55</td>\n",
       "    </tr>\n",
       "    <tr>\n",
       "      <th>19</th>\n",
       "      <td>Ponte rasa</td>\n",
       "      <td>2.27</td>\n",
       "    </tr>\n",
       "    <tr>\n",
       "      <th>20</th>\n",
       "      <td>Raposo tavares</td>\n",
       "      <td>2.27</td>\n",
       "    </tr>\n",
       "    <tr>\n",
       "      <th>21</th>\n",
       "      <td>Republica</td>\n",
       "      <td>2.27</td>\n",
       "    </tr>\n",
       "    <tr>\n",
       "      <th>22</th>\n",
       "      <td>Rio pequeno</td>\n",
       "      <td>2.27</td>\n",
       "    </tr>\n",
       "    <tr>\n",
       "      <th>23</th>\n",
       "      <td>Sacoma</td>\n",
       "      <td>2.27</td>\n",
       "    </tr>\n",
       "    <tr>\n",
       "      <th>24</th>\n",
       "      <td>Sao lucas</td>\n",
       "      <td>2.27</td>\n",
       "    </tr>\n",
       "    <tr>\n",
       "      <th>25</th>\n",
       "      <td>Sao mateus</td>\n",
       "      <td>4.55</td>\n",
       "    </tr>\n",
       "    <tr>\n",
       "      <th>26</th>\n",
       "      <td>Sao rafael</td>\n",
       "      <td>2.27</td>\n",
       "    </tr>\n",
       "    <tr>\n",
       "      <th>27</th>\n",
       "      <td>Saude</td>\n",
       "      <td>2.27</td>\n",
       "    </tr>\n",
       "    <tr>\n",
       "      <th>28</th>\n",
       "      <td>Tatuape</td>\n",
       "      <td>2.27</td>\n",
       "    </tr>\n",
       "    <tr>\n",
       "      <th>29</th>\n",
       "      <td>Vila maria</td>\n",
       "      <td>2.27</td>\n",
       "    </tr>\n",
       "    <tr>\n",
       "      <th>30</th>\n",
       "      <td>Vila medeiros</td>\n",
       "      <td>2.27</td>\n",
       "    </tr>\n",
       "    <tr>\n",
       "      <th>31</th>\n",
       "      <td>Vila sonia</td>\n",
       "      <td>4.55</td>\n",
       "    </tr>\n",
       "    <tr>\n",
       "      <th>32</th>\n",
       "      <td>Vl monte belo</td>\n",
       "      <td>2.27</td>\n",
       "    </tr>\n",
       "  </tbody>\n",
       "</table>\n",
       "</div>"
      ],
      "text/plain": [
       "               BAIRRO  TAX_NUM_BO\n",
       "0           Agua rasa        2.27\n",
       "1   Alto de pinheiros        2.27\n",
       "2             Butanta        4.55\n",
       "3         Campo limpo        6.82\n",
       "4       Capao redondo        9.09\n",
       "5              Carrao        2.27\n",
       "6   Cidade tiradentes        2.27\n",
       "7          Consolacao        2.27\n",
       "8      Freguesia do o        2.27\n",
       "9            Iguatemi        2.27\n",
       "10           Itaquera        2.27\n",
       "11      Jardim angela        4.55\n",
       "12      Jardim helena        2.27\n",
       "13            Lajeado        2.27\n",
       "14               Lapa        4.55\n",
       "15              Moema        2.27\n",
       "16               Pari        2.27\n",
       "17              Penha        2.27\n",
       "18              Perus        4.55\n",
       "19         Ponte rasa        2.27\n",
       "20     Raposo tavares        2.27\n",
       "21          Republica        2.27\n",
       "22        Rio pequeno        2.27\n",
       "23             Sacoma        2.27\n",
       "24          Sao lucas        2.27\n",
       "25         Sao mateus        4.55\n",
       "26         Sao rafael        2.27\n",
       "27              Saude        2.27\n",
       "28            Tatuape        2.27\n",
       "29         Vila maria        2.27\n",
       "30      Vila medeiros        2.27\n",
       "31         Vila sonia        4.55\n",
       "32      Vl monte belo        2.27"
      ]
     },
     "execution_count": 59,
     "metadata": {},
     "output_type": "execute_result"
    }
   ],
   "source": [
    "latrocinios = latrocinios[['NUM_BO', 'BAIRRO']]\n",
    "latrocinios = latrocinios.groupby('BAIRRO').count().reset_index()\n",
    "latrocinios['TAX_NUM_BO'] = ((latrocinios.NUM_BO / latrocinios.NUM_BO.sum()) * 100).round(2)\n",
    "latrocinios.drop(columns=['NUM_BO'], inplace=True)\n",
    "latrocinios.BAIRRO = latrocinios.BAIRRO.str.capitalize()\n",
    "latrocinios"
   ]
  },
  {
   "cell_type": "markdown",
   "metadata": {},
   "source": [
    "## Removendo os acentos da coluna neighborhood do dataset de imóveis"
   ]
  },
  {
   "cell_type": "code",
   "execution_count": 60,
   "metadata": {},
   "outputs": [],
   "source": [
    "imoveis.neighborhood = imoveis.neighborhood.apply(unidecode)\n",
    "imoveis.neighborhood = imoveis.neighborhood.str.capitalize()"
   ]
  },
  {
   "cell_type": "markdown",
   "metadata": {},
   "source": [
    "## Adicionado as informações de Latrocínio ao dataset de imóveis"
   ]
  },
  {
   "cell_type": "code",
   "execution_count": 61,
   "metadata": {},
   "outputs": [],
   "source": [
    "imoveis = pd.merge(\n",
    "                imoveis,\n",
    "                latrocinios,\n",
    "                left_on='neighborhood',\n",
    "                right_on='BAIRRO',\n",
    "                how='left'\n",
    "            )\n",
    "\n",
    "imoveis.drop(columns=['BAIRRO'], inplace=True)\n",
    "imoveis.rename(columns={'TAX_NUM_BO': 'taxRobberyMurder'}, inplace = True)\n",
    "imoveis['taxRobberyMurder'] = imoveis['taxRobberyMurder'].fillna(0)"
   ]
  },
  {
   "cell_type": "markdown",
   "metadata": {},
   "source": [
    "## Após todo o processo de tratamento e processamento vamos gerar um dataset tratado para seguirmos com a analise exploratória"
   ]
  },
  {
   "cell_type": "code",
   "execution_count": 62,
   "metadata": {},
   "outputs": [
    {
     "data": {
      "text/plain": [
       "(7866, 18)"
      ]
     },
     "execution_count": 62,
     "metadata": {},
     "output_type": "execute_result"
    }
   ],
   "source": [
    "imoveis.shape"
   ]
  },
  {
   "cell_type": "code",
   "execution_count": 63,
   "metadata": {},
   "outputs": [],
   "source": [
    "imoveis.to_csv('dados/dataset_imoveis_loft_sao_paulo_23122020_135200_treated.csv', sep='|', index=False)"
   ]
  }
 ],
 "metadata": {
  "hide_input": false,
  "kernelspec": {
   "display_name": "Python 3",
   "language": "python",
   "name": "python3"
  },
  "language_info": {
   "codemirror_mode": {
    "name": "ipython",
    "version": 3
   },
   "file_extension": ".py",
   "mimetype": "text/x-python",
   "name": "python",
   "nbconvert_exporter": "python",
   "pygments_lexer": "ipython3",
   "version": "3.7.3"
  },
  "toc": {
   "base_numbering": 1,
   "nav_menu": {},
   "number_sections": false,
   "sideBar": true,
   "skip_h1_title": false,
   "title_cell": "Table of Contents",
   "title_sidebar": "Contents",
   "toc_cell": false,
   "toc_position": {},
   "toc_section_display": true,
   "toc_window_display": false
  },
  "varInspector": {
   "cols": {
    "lenName": 16,
    "lenType": 16,
    "lenVar": 40
   },
   "kernels_config": {
    "python": {
     "delete_cmd_postfix": "",
     "delete_cmd_prefix": "del ",
     "library": "var_list.py",
     "varRefreshCmd": "print(var_dic_list())"
    },
    "r": {
     "delete_cmd_postfix": ") ",
     "delete_cmd_prefix": "rm(",
     "library": "var_list.r",
     "varRefreshCmd": "cat(var_dic_list()) "
    }
   },
   "types_to_exclude": [
    "module",
    "function",
    "builtin_function_or_method",
    "instance",
    "_Feature"
   ],
   "window_display": false
  }
 },
 "nbformat": 4,
 "nbformat_minor": 2
}
